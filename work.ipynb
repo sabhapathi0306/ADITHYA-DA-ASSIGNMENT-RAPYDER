{
 "cells": [
  {
   "cell_type": "markdown",
   "id": "d80fa441-e2af-436a-a8a1-eb22e2f8f055",
   "metadata": {},
   "source": [
    "### Tasks:\n",
    "1.Model to predict the Genre using given book dataset\n",
    "\n",
    "2.Model which predict the rating for the book which help in making trending and sorting"
   ]
  },
  {
   "cell_type": "markdown",
   "id": "a302737c-7763-4df8-af5c-877e4fb8a7d4",
   "metadata": {},
   "source": [
    "## Task1: Genre prediction"
   ]
  },
  {
   "cell_type": "code",
   "execution_count": 1,
   "id": "71483e93-c120-4b89-9dc6-7fe1cd8e49dd",
   "metadata": {},
   "outputs": [],
   "source": [
    "#required libraries\n",
    "import pandas as pd\n",
    "import numpy as np\n",
    "import matplotlib.pyplot as plt\n",
    "import seaborn as sb\n",
    "\n",
    "import re\n",
    "import string\n",
    "import nltk\n",
    "from sklearn.feature_extraction.text import TfidfVectorizer\n",
    "from sklearn.model_selection import train_test_split\n",
    "\n",
    "from sklearn.ensemble import RandomForestClassifier\n",
    "from sklearn import svm\n",
    "from sklearn.naive_bayes import MultinomialNB\n",
    "\n",
    "\n",
    "from sklearn.metrics import accuracy_score \n",
    "from sklearn.metrics import confusion_matrix,classification_report"
   ]
  },
  {
   "cell_type": "code",
   "execution_count": 2,
   "id": "8dc0d1b9-7933-45f3-b329-2338447c32d0",
   "metadata": {},
   "outputs": [
    {
     "data": {
      "text/html": [
       "<div>\n",
       "<style scoped>\n",
       "    .dataframe tbody tr th:only-of-type {\n",
       "        vertical-align: middle;\n",
       "    }\n",
       "\n",
       "    .dataframe tbody tr th {\n",
       "        vertical-align: top;\n",
       "    }\n",
       "\n",
       "    .dataframe thead th {\n",
       "        text-align: right;\n",
       "    }\n",
       "</style>\n",
       "<table border=\"1\" class=\"dataframe\">\n",
       "  <thead>\n",
       "    <tr style=\"text-align: right;\">\n",
       "      <th></th>\n",
       "      <th>Unnamed: 0</th>\n",
       "      <th>title</th>\n",
       "      <th>rating</th>\n",
       "      <th>name</th>\n",
       "      <th>num_ratings</th>\n",
       "      <th>num_reviews</th>\n",
       "      <th>num_followers</th>\n",
       "      <th>synopsis</th>\n",
       "      <th>genre</th>\n",
       "    </tr>\n",
       "  </thead>\n",
       "  <tbody>\n",
       "    <tr>\n",
       "      <th>0</th>\n",
       "      <td>0</td>\n",
       "      <td>Sapiens: A Brief History of Humankind</td>\n",
       "      <td>4.39</td>\n",
       "      <td>Yuval Noah Harari</td>\n",
       "      <td>8,06,229</td>\n",
       "      <td>46,149</td>\n",
       "      <td>30.5k</td>\n",
       "      <td>100,000 years ago, at least six human species ...</td>\n",
       "      <td>history</td>\n",
       "    </tr>\n",
       "    <tr>\n",
       "      <th>1</th>\n",
       "      <td>1</td>\n",
       "      <td>Guns, Germs, and Steel: The Fates of Human Soc...</td>\n",
       "      <td>4.04</td>\n",
       "      <td>Jared Diamond</td>\n",
       "      <td>3,67,056</td>\n",
       "      <td>12,879</td>\n",
       "      <td>6,538</td>\n",
       "      <td>\"Diamond has written a book of remarkable scop...</td>\n",
       "      <td>history</td>\n",
       "    </tr>\n",
       "    <tr>\n",
       "      <th>2</th>\n",
       "      <td>2</td>\n",
       "      <td>A People's History of the United States</td>\n",
       "      <td>4.07</td>\n",
       "      <td>Howard Zinn</td>\n",
       "      <td>2,24,620</td>\n",
       "      <td>6,509</td>\n",
       "      <td>2,354</td>\n",
       "      <td>In the book, Zinn presented a different side o...</td>\n",
       "      <td>history</td>\n",
       "    </tr>\n",
       "    <tr>\n",
       "      <th>3</th>\n",
       "      <td>3</td>\n",
       "      <td>The Devil in the White City: Murder, Magic, an...</td>\n",
       "      <td>3.99</td>\n",
       "      <td>Erik Larson</td>\n",
       "      <td>6,13,157</td>\n",
       "      <td>36,644</td>\n",
       "      <td>64.2k</td>\n",
       "      <td>Author Erik Larson imbues the incredible event...</td>\n",
       "      <td>history</td>\n",
       "    </tr>\n",
       "    <tr>\n",
       "      <th>4</th>\n",
       "      <td>4</td>\n",
       "      <td>The Diary of a Young Girl</td>\n",
       "      <td>4.18</td>\n",
       "      <td>Anne Frank</td>\n",
       "      <td>33,13,033</td>\n",
       "      <td>35,591</td>\n",
       "      <td>4,621</td>\n",
       "      <td>Discovered in the attic in which she spent the...</td>\n",
       "      <td>history</td>\n",
       "    </tr>\n",
       "    <tr>\n",
       "      <th>5</th>\n",
       "      <td>5</td>\n",
       "      <td>1776</td>\n",
       "      <td>4.08</td>\n",
       "      <td>David McCullough</td>\n",
       "      <td>2,14,796</td>\n",
       "      <td>7,910</td>\n",
       "      <td>9,137</td>\n",
       "      <td>In this masterful book, David McCullough tells...</td>\n",
       "      <td>history</td>\n",
       "    </tr>\n",
       "    <tr>\n",
       "      <th>6</th>\n",
       "      <td>6</td>\n",
       "      <td>A Short History of Nearly Everything</td>\n",
       "      <td>4.20</td>\n",
       "      <td>Bill Bryson</td>\n",
       "      <td>3,52,894</td>\n",
       "      <td>14,428</td>\n",
       "      <td>18.3k</td>\n",
       "      <td>Bill Bryson describes himself as a reluctant t...</td>\n",
       "      <td>history</td>\n",
       "    </tr>\n",
       "    <tr>\n",
       "      <th>7</th>\n",
       "      <td>7</td>\n",
       "      <td>The Rise and Fall of the Third Reich: A Histor...</td>\n",
       "      <td>4.18</td>\n",
       "      <td>William L. Shirer</td>\n",
       "      <td>1,21,138</td>\n",
       "      <td>3,473</td>\n",
       "      <td>711</td>\n",
       "      <td>Hitler boasted that The Third Reich would last...</td>\n",
       "      <td>history</td>\n",
       "    </tr>\n",
       "    <tr>\n",
       "      <th>8</th>\n",
       "      <td>8</td>\n",
       "      <td>1491: New Revelations of the Americas Before C...</td>\n",
       "      <td>4.03</td>\n",
       "      <td>Charles C. Mann</td>\n",
       "      <td>79,347</td>\n",
       "      <td>4,429</td>\n",
       "      <td>902</td>\n",
       "      <td>In this groundbreaking work of science, histor...</td>\n",
       "      <td>history</td>\n",
       "    </tr>\n",
       "    <tr>\n",
       "      <th>9</th>\n",
       "      <td>9</td>\n",
       "      <td>SPQR: A History of Ancient Rome</td>\n",
       "      <td>4.03</td>\n",
       "      <td>Mary Beard</td>\n",
       "      <td>51,423</td>\n",
       "      <td>3,536</td>\n",
       "      <td>2,786</td>\n",
       "      <td>In SPQR, an instant classic, Mary Beard narrat...</td>\n",
       "      <td>history</td>\n",
       "    </tr>\n",
       "  </tbody>\n",
       "</table>\n",
       "</div>"
      ],
      "text/plain": [
       "   Unnamed: 0                                              title  rating  \\\n",
       "0           0              Sapiens: A Brief History of Humankind    4.39   \n",
       "1           1  Guns, Germs, and Steel: The Fates of Human Soc...    4.04   \n",
       "2           2            A People's History of the United States    4.07   \n",
       "3           3  The Devil in the White City: Murder, Magic, an...    3.99   \n",
       "4           4                          The Diary of a Young Girl    4.18   \n",
       "5           5                                               1776    4.08   \n",
       "6           6               A Short History of Nearly Everything    4.20   \n",
       "7           7  The Rise and Fall of the Third Reich: A Histor...    4.18   \n",
       "8           8  1491: New Revelations of the Americas Before C...    4.03   \n",
       "9           9                    SPQR: A History of Ancient Rome    4.03   \n",
       "\n",
       "                name num_ratings num_reviews num_followers  \\\n",
       "0  Yuval Noah Harari    8,06,229      46,149         30.5k   \n",
       "1      Jared Diamond    3,67,056      12,879         6,538   \n",
       "2        Howard Zinn    2,24,620       6,509         2,354   \n",
       "3        Erik Larson    6,13,157      36,644         64.2k   \n",
       "4         Anne Frank   33,13,033      35,591         4,621   \n",
       "5   David McCullough    2,14,796       7,910         9,137   \n",
       "6        Bill Bryson    3,52,894      14,428         18.3k   \n",
       "7  William L. Shirer    1,21,138       3,473           711   \n",
       "8    Charles C. Mann      79,347       4,429           902   \n",
       "9         Mary Beard      51,423       3,536         2,786   \n",
       "\n",
       "                                            synopsis    genre  \n",
       "0  100,000 years ago, at least six human species ...  history  \n",
       "1  \"Diamond has written a book of remarkable scop...  history  \n",
       "2  In the book, Zinn presented a different side o...  history  \n",
       "3  Author Erik Larson imbues the incredible event...  history  \n",
       "4  Discovered in the attic in which she spent the...  history  \n",
       "5  In this masterful book, David McCullough tells...  history  \n",
       "6  Bill Bryson describes himself as a reluctant t...  history  \n",
       "7  Hitler boasted that The Third Reich would last...  history  \n",
       "8  In this groundbreaking work of science, histor...  history  \n",
       "9  In SPQR, an instant classic, Mary Beard narrat...  history  "
      ]
     },
     "execution_count": 2,
     "metadata": {},
     "output_type": "execute_result"
    }
   ],
   "source": [
    "#loading the given dataset\n",
    "\n",
    "data = pd.read_csv('DA-AI-ML-interview-assignment-Data.csv')\n",
    "data.head(10)"
   ]
  },
  {
   "cell_type": "code",
   "execution_count": 3,
   "id": "76c67856-9b6f-4bc6-a73e-0b6f7107e9d7",
   "metadata": {},
   "outputs": [],
   "source": [
    "data = data.drop('Unnamed: 0',axis = 1)"
   ]
  },
  {
   "cell_type": "markdown",
   "id": "53603ba5-0153-4c73-9432-e0b621ff5f87",
   "metadata": {},
   "source": [
    "### Raw analysis of give dataset"
   ]
  },
  {
   "cell_type": "code",
   "execution_count": 4,
   "id": "a715937f-661a-429b-87c3-486d29882083",
   "metadata": {},
   "outputs": [
    {
     "name": "stdout",
     "output_type": "stream",
     "text": [
      "<class 'pandas.core.frame.DataFrame'>\n",
      "RangeIndex: 1539 entries, 0 to 1538\n",
      "Data columns (total 8 columns):\n",
      " #   Column         Non-Null Count  Dtype  \n",
      "---  ------         --------------  -----  \n",
      " 0   title          1539 non-null   object \n",
      " 1   rating         1539 non-null   float64\n",
      " 2   name           1539 non-null   object \n",
      " 3   num_ratings    1539 non-null   object \n",
      " 4   num_reviews    1539 non-null   object \n",
      " 5   num_followers  1539 non-null   object \n",
      " 6   synopsis       1539 non-null   object \n",
      " 7   genre          1539 non-null   object \n",
      "dtypes: float64(1), object(7)\n",
      "memory usage: 96.3+ KB\n"
     ]
    }
   ],
   "source": [
    "data.info()"
   ]
  },
  {
   "cell_type": "markdown",
   "id": "52634038-e4c2-4a33-a19e-ce8701fc8317",
   "metadata": {},
   "source": [
    "#### Observation\n",
    "We can observe that in our dataset their is no persence of NaN values and includes 1539 data with 7 features in it.\n",
    "\n",
    "In our task1 we have to consider the Genre as target set as our aim to predict genre"
   ]
  },
  {
   "cell_type": "code",
   "execution_count": 5,
   "id": "5fe3f29d-dadb-4877-b5d7-390bf20d9067",
   "metadata": {},
   "outputs": [],
   "source": [
    "target = data[['genre']]"
   ]
  },
  {
   "cell_type": "code",
   "execution_count": 6,
   "id": "d5307726-cf6f-4e0a-aeb4-97575286cba7",
   "metadata": {},
   "outputs": [
    {
     "name": "stdout",
     "output_type": "stream",
     "text": [
      "thriller           481\n",
      "fantasy            348\n",
      "romance            111\n",
      "horror             100\n",
      "history             99\n",
      "psychology          99\n",
      "travel              98\n",
      "science             79\n",
      "sports              79\n",
      "science_fiction     45\n",
      "Name: genre, dtype: int64\n",
      " \n"
     ]
    },
    {
     "data": {
      "image/png": "[encoded data removed]",
      "text/plain": [
       "<Figure size 1200x800 with 1 Axes>"
      ]
     },
     "metadata": {},
     "output_type": "display_data"
    }
   ],
   "source": [
    "print(target.genre.value_counts())\n",
    "print(\" \")\n",
    "plt.figure(figsize=(12,8))\n",
    "sb.countplot(x=target['genre'], order=target['genre'].value_counts().index)\n",
    "plt.show()"
   ]
  },
  {
   "cell_type": "markdown",
   "id": "48a6c6b6-8312-45d4-be12-0691766e3979",
   "metadata": {},
   "source": [
    "Further we consider only Synopsis as predictor out other 6 features[title,name,ratings,reviews and flowers] as rating ,reviews flowers are irrelevent features\n",
    "for predicting the genre of book and,remaining name of author may contain my genre out of books in library and which might not contain in our dataset and leads to model\n",
    "bias.Synopsis of book[title] gives the summary which help in extracting meaning full details than title of book so we consider only synopsis and apply NLP techniques for \n",
    "feature extraction and preprocess\n",
    "\n",
    "Why NLP not other categorical encoding techniques ?\n",
    "\n",
    "Because NLP helps to create less dimesioned meagning full vectors out of text dataset and other categorical encoding techniques creates high dimesion features which affects in creating \n",
    "generalized model for classification"
   ]
  },
  {
   "cell_type": "code",
   "execution_count": 7,
   "id": "5778c1de-6a91-4d36-ad7c-aef0dd344462",
   "metadata": {},
   "outputs": [],
   "source": [
    "feature = data[['synopsis']]"
   ]
  },
  {
   "cell_type": "markdown",
   "id": "74c71282-0df2-4d10-b910-c675aa955536",
   "metadata": {},
   "source": [
    "## Data preprocess\n",
    "steps:\n",
    "\n",
    "    1. Transvers all synopsis and removes non alphabitics characters and puncuations \n",
    "    2. Removing stopwords\n",
    "    3. Stemming and lemmatization\n",
    "    4. Creating vectors for lemmateized data using [bagofword or tfidf or word2vec]"
   ]
  },
  {
   "cell_type": "code",
   "execution_count": 8,
   "id": "a31932c3-ac5b-4595-947b-c04cbc175898",
   "metadata": {},
   "outputs": [
    {
     "name": "stderr",
     "output_type": "stream",
     "text": [
      "/tmp/ipykernel_253/3752004618.py:14: SettingWithCopyWarning: \n",
      "A value is trying to be set on a copy of a slice from a DataFrame.\n",
      "Try using .loc[row_indexer,col_indexer] = value instead\n",
      "\n",
      "See the caveats in the documentation: https://pandas.pydata.org/pandas-docs/stable/user_guide/indexing.html#returning-a-view-versus-a-copy\n",
      "  feature.loc[:,'synopsis']= feature.loc[:,'synopsis'].apply(lambda x: clean_nonalph(x))\n"
     ]
    }
   ],
   "source": [
    "#function which removes the non alphabetic charactes and other non required characters\n",
    "def clean_nonalph(text):\n",
    "    # remove backslash-apostrophe \n",
    "    text = re.sub(\"\\'\", \"\", text) \n",
    "    # remove everything except alphabets \n",
    "    text = re.sub(\"[^a-zA-Z]\",\" \",text) \n",
    "    # remove whitespaces \n",
    "    text = ' '.join(text.split()) \n",
    "    # convert text to lowercase \n",
    "    text = text.lower() \n",
    "    \n",
    "    return text\n",
    "\n",
    "feature.loc[:,'synopsis']= feature.loc[:,'synopsis'].apply(lambda x: clean_nonalph(x))"
   ]
  },
  {
   "cell_type": "code",
   "execution_count": 9,
   "id": "616925b9-a8a3-46ac-bf4d-e58495d5f7e4",
   "metadata": {},
   "outputs": [
    {
     "data": {
      "text/plain": [
       "'in this masterful book david mccullough tells the intensely human story of those who marched with general george washington in the year of the declaration of independence when the whole american cause was riding on their success without which all hope for independence would have been dashed and the noble ideals of the declaration would have amounted to little more than words on paper based on extensive research in both american and british archives is a powerful drama written with extraordinary narrative vitality it is the story of americans in the ranks men of every shape size and color farmers schoolteachers shoemakers no accounts and mere boys turned soldiers and it is the story of the kings men the british commander william howe an his highly disciplined redcoats who looked on their rebel foes with contempt and fought with a valor too little known at the center of the drama with washington are two young american patriots who at first knew no more of war than what they had read in books nathaniel green a quaker who was made a general at thirty three and henry knox a twenty five year old bookseller who had the preposterous idea of hauling the guns of fort ticonderoga overland to boston in the dead of winter but it is the american commander in chief who stands foremost washington who had never before led an army in battle written as a companion work to his celebrated biography of john adams david mcculloughs is another landmark in the literature of american history'"
      ]
     },
     "execution_count": 9,
     "metadata": {},
     "output_type": "execute_result"
    }
   ],
   "source": [
    "feature.synopsis[5]"
   ]
  },
  {
   "cell_type": "markdown",
   "id": "ab416ec2-5923-48bd-88ad-bc667b941998",
   "metadata": {},
   "source": [
    "We can observe that text is converted to lowercase and all irrelevent character and punctuation were removed"
   ]
  },
  {
   "cell_type": "code",
   "execution_count": 10,
   "id": "b31a0573-fa8f-4036-bced-1a6c0f6b3641",
   "metadata": {},
   "outputs": [
    {
     "name": "stderr",
     "output_type": "stream",
     "text": [
      "[nltk_data] Downloading package stopwords to\n",
      "[nltk_data]     /home/adithyasab99ine/nltk_data...\n",
      "[nltk_data]   Package stopwords is already up-to-date!\n",
      "/tmp/ipykernel_253/2468568566.py:12: SettingWithCopyWarning: \n",
      "A value is trying to be set on a copy of a slice from a DataFrame.\n",
      "Try using .loc[row_indexer,col_indexer] = value instead\n",
      "\n",
      "See the caveats in the documentation: https://pandas.pydata.org/pandas-docs/stable/user_guide/indexing.html#returning-a-view-versus-a-copy\n",
      "  feature['synopsis'] = feature['synopsis'].apply(lambda x: removestopwords(x))\n"
     ]
    }
   ],
   "source": [
    "# removing stopwords\n",
    "nltk.download('stopwords')\n",
    "\n",
    "from nltk.corpus import stopwords\n",
    "stop_words = set(stopwords.words('english'))\n",
    "\n",
    "# function to remove stopwords\n",
    "def removestopwords(text):\n",
    "    no_stopword_text = [w for w in text.split() if not w in stop_words]\n",
    "    return ' '.join(no_stopword_text)\n",
    "\n",
    "feature['synopsis'] = feature['synopsis'].apply(lambda x: removestopwords(x))"
   ]
  },
  {
   "cell_type": "code",
   "execution_count": 11,
   "id": "f4bcfa52-d720-4978-bb9f-b268bc95a824",
   "metadata": {},
   "outputs": [
    {
     "data": {
      "text/plain": [
       "'masterful book david mccullough tells intensely human story marched general george washington year declaration independence whole american cause riding success without hope independence would dashed noble ideals declaration would amounted little words paper based extensive research american british archives powerful drama written extraordinary narrative vitality story americans ranks men every shape size color farmers schoolteachers shoemakers accounts mere boys turned soldiers story kings men british commander william howe highly disciplined redcoats looked rebel foes contempt fought valor little known center drama washington two young american patriots first knew war read books nathaniel green quaker made general thirty three henry knox twenty five year old bookseller preposterous idea hauling guns fort ticonderoga overland boston dead winter american commander chief stands foremost washington never led army battle written companion work celebrated biography john adams david mcculloughs another landmark literature american history'"
      ]
     },
     "execution_count": 11,
     "metadata": {},
     "output_type": "execute_result"
    }
   ],
   "source": [
    "feature.synopsis[5]"
   ]
  },
  {
   "cell_type": "code",
   "execution_count": 12,
   "id": "b4632026-fe5b-4373-b155-69e48f8dccc7",
   "metadata": {},
   "outputs": [
    {
     "name": "stderr",
     "output_type": "stream",
     "text": [
      "[nltk_data] Downloading package wordnet to\n",
      "[nltk_data]     /home/adithyasab99ine/nltk_data...\n",
      "[nltk_data]   Package wordnet is already up-to-date!\n",
      "/tmp/ipykernel_253/3580378054.py:15: SettingWithCopyWarning: \n",
      "A value is trying to be set on a copy of a slice from a DataFrame.\n",
      "Try using .loc[row_indexer,col_indexer] = value instead\n",
      "\n",
      "See the caveats in the documentation: https://pandas.pydata.org/pandas-docs/stable/user_guide/indexing.html#returning-a-view-versus-a-copy\n",
      "  feature['synopsis'] = feature['synopsis'].apply(lambda x: lematizing(x))\n",
      "/tmp/ipykernel_253/3580378054.py:26: SettingWithCopyWarning: \n",
      "A value is trying to be set on a copy of a slice from a DataFrame.\n",
      "Try using .loc[row_indexer,col_indexer] = value instead\n",
      "\n",
      "See the caveats in the documentation: https://pandas.pydata.org/pandas-docs/stable/user_guide/indexing.html#returning-a-view-versus-a-copy\n",
      "  feature['synopsis'] = feature['synopsis'].apply(lambda x: stemming(x))\n"
     ]
    }
   ],
   "source": [
    "# Lemmatization : it groups different versions of the same word into one – for example, finalzed/finaling/final to final\n",
    "nltk.download('wordnet')\n",
    "from nltk.stem import WordNetLemmatizer\n",
    "from nltk.stem import PorterStemmer\n",
    "lemma=WordNetLemmatizer()\n",
    "def lematizing(sentence):\n",
    "    stemSentence = \"\"\n",
    "    for word in sentence.split():\n",
    "        stem = lemma.lemmatize(word)\n",
    "        stemSentence += stem\n",
    "        stemSentence += \" \"\n",
    "    stemSentence = stemSentence.strip()\n",
    "    return stemSentence\n",
    "\n",
    "feature['synopsis'] = feature['synopsis'].apply(lambda x: lematizing(x))\n",
    "stemmer = PorterStemmer()\n",
    "def stemming(sentence):\n",
    "    stemSentence = \"\"\n",
    "    for word in sentence.split():\n",
    "        stem = stemmer.stem(word)\n",
    "        stemSentence += stem\n",
    "        stemSentence += \" \"\n",
    "    stemSentence = stemSentence.strip()\n",
    "    return stemSentence\n",
    "\n",
    "feature['synopsis'] = feature['synopsis'].apply(lambda x: stemming(x))\n"
   ]
  },
  {
   "cell_type": "code",
   "execution_count": 13,
   "id": "7cad61de-1994-4b99-8c15-dadc8f5ef6fd",
   "metadata": {},
   "outputs": [
    {
     "data": {
      "text/plain": [
       "'master book david mccullough tell intens human stori march gener georg washington year declar independ whole american caus ride success without hope independ would dash nobl ideal declar would amount littl word paper base extens research american british archiv power drama written extraordinari narr vital stori american rank men everi shape size color farmer schoolteach shoemak account mere boy turn soldier stori king men british command william howe highli disciplin redcoat look rebel foe contempt fought valor littl known center drama washington two young american patriot first knew war read book nathaniel green quaker made gener thirti three henri knox twenti five year old booksel preposter idea haul gun fort ticonderoga overland boston dead winter american command chief stand foremost washington never led armi battl written companion work celebr biographi john adam david mccullough anoth landmark literatur american histori'"
      ]
     },
     "execution_count": 13,
     "metadata": {},
     "output_type": "execute_result"
    }
   ],
   "source": [
    "feature.synopsis[5]"
   ]
  },
  {
   "cell_type": "markdown",
   "id": "07d80783-4c21-4334-af79-724d48201fe6",
   "metadata": {},
   "source": [
    "## categorical Encoding "
   ]
  },
  {
   "cell_type": "markdown",
   "id": "f6959f8c-f7e6-42cf-a2d5-fa14568143f8",
   "metadata": {},
   "source": [
    "##### Converting the text to vectors using TF*IDF \n",
    "\"TF = No. of repetation of words in sentence/No. of words in sentence\n",
    "IDF =  log(No. of Sentence /No. of Sentence containing words)\n",
    "\n",
    "TF*IDF\""
   ]
  },
  {
   "cell_type": "code",
   "execution_count": 14,
   "id": "c8a397b8-b0d2-4369-bb68-e73aab691f6a",
   "metadata": {},
   "outputs": [],
   "source": [
    "#spliting the dataset into 80 / 20 percentage\n",
    "X_train, X_test , y_train, y_test = train_test_split(feature['synopsis'].values,target['genre'].values,test_size=0.2,random_state=42)"
   ]
  },
  {
   "cell_type": "code",
   "execution_count": 15,
   "id": "c4842291-c307-41fb-a8ff-708be0c608c2",
   "metadata": {},
   "outputs": [
    {
     "data": {
      "text/plain": [
       "((1231,), (308,))"
      ]
     },
     "execution_count": 15,
     "metadata": {},
     "output_type": "execute_result"
    }
   ],
   "source": [
    "X_train.shape,X_test.shape"
   ]
  },
  {
   "cell_type": "code",
   "execution_count": 16,
   "id": "b5ae3138-4dfe-48e6-8b33-9ac067cecba8",
   "metadata": {},
   "outputs": [],
   "source": [
    "vectorizer = TfidfVectorizer()\n",
    "train_vectors = vectorizer.fit_transform(X_train)\n",
    "test_vectors = vectorizer.transform(X_test)\n",
    "analyze = vectorizer.build_analyzer()"
   ]
  },
  {
   "cell_type": "code",
   "execution_count": 17,
   "id": "370113b3-929c-4c34-b256-8a74377b326e",
   "metadata": {},
   "outputs": [
    {
     "name": "stdout",
     "output_type": "stream",
     "text": [
      "['let', 'prove', 'worthi', 'man', 'newli', 'knight', 'alanna', 'trebond', 'seek', 'adventur', 'vast', 'desert', 'tortal', 'captur', 'fierc', 'desert', 'dweller', 'forc', 'prove', 'duel', 'death', 'either', 'kill', 'induct', 'tribe', 'although', 'triumph', 'dire', 'challeng', 'lie', 'ahead', 'mythic', 'fate', 'would', 'alanna', 'soon', 'becom', 'tribe', 'first', 'femal', 'shaman', 'despit', 'desert', 'dweller', 'grave', 'fear', 'foreign', 'woman', 'warrior', 'alanna', 'must', 'fight', 'chang', 'ancient', 'tribal', 'custom', 'desert', 'tribe', 'sake', 'sake', 'tortal', 'alanna', 'journey', 'continu', 'le']\n"
     ]
    }
   ],
   "source": [
    "#Aanalyze the important words for sysnopsis 5\n",
    "print(analyze(X_train[5]))"
   ]
  },
  {
   "cell_type": "markdown",
   "id": "74302353-0495-47b3-93cd-d4f64b61d6fe",
   "metadata": {},
   "source": [
    "## Model Training"
   ]
  },
  {
   "cell_type": "code",
   "execution_count": 18,
   "id": "168654a8-d8b5-4ca8-a589-fe4ab141b5b4",
   "metadata": {},
   "outputs": [
    {
     "data": {
      "text/plain": [
       "{'SVM': 0.775974025974026,\n",
       " 'RandomForestClassifier': 0.6688311688311688,\n",
       " 'MultiNB': 0.4577922077922078}"
      ]
     },
     "execution_count": 18,
     "metadata": {},
     "output_type": "execute_result"
    }
   ],
   "source": [
    "models = {\n",
    "          \"SVM\": svm.SVC(kernel = 'linear'),\n",
    "          \"RandomForestClassifier\": RandomForestClassifier(),\n",
    "          \"MultiNB\":  MultinomialNB()}\n",
    "\n",
    "def fit_and_score(models, x_train, x_test, y_train, y_test):\n",
    "    np.random.seed(99)\n",
    "    score = {}\n",
    "    for name, model in models.items():\n",
    "        model.fit(x_train, y_train)\n",
    "        pred=model.predict(x_test)\n",
    "        score[name] = accuracy_score(y_test,pred) \n",
    "    return score\n",
    "\n",
    "model_scores = fit_and_score(models, train_vectors, test_vectors, y_train, y_test)\n",
    "\n",
    "model_scores"
   ]
  },
  {
   "cell_type": "code",
   "execution_count": 19,
   "id": "b3836a67-1b95-4cc9-b5b9-a6b025dbd7be",
   "metadata": {},
   "outputs": [
    {
     "name": "stdout",
     "output_type": "stream",
     "text": [
      "Fitting 5 folds for each of 10 candidates, totalling 50 fits\n",
      "[CV 1/5] END .....C=1, gamma=0.0001, kernel=rbf;, score=0.312 total time=   0.8s\n",
      "[CV 2/5] END .....C=1, gamma=0.0001, kernel=rbf;, score=0.309 total time=   0.8s\n",
      "[CV 3/5] END .....C=1, gamma=0.0001, kernel=rbf;, score=0.309 total time=   0.8s\n",
      "[CV 4/5] END .....C=1, gamma=0.0001, kernel=rbf;, score=0.309 total time=   0.8s\n",
      "[CV 5/5] END .....C=1, gamma=0.0001, kernel=rbf;, score=0.309 total time=   0.9s\n",
      "[CV 1/5] END ........C=1, gamma=0.1, kernel=rbf;, score=0.316 total time=   1.3s\n",
      "[CV 2/5] END ........C=1, gamma=0.1, kernel=rbf;, score=0.309 total time=   1.4s\n",
      "[CV 3/5] END ........C=1, gamma=0.1, kernel=rbf;, score=0.313 total time=   1.3s\n",
      "[CV 4/5] END ........C=1, gamma=0.1, kernel=rbf;, score=0.309 total time=   1.3s\n",
      "[CV 5/5] END ........C=1, gamma=0.1, kernel=rbf;, score=0.317 total time=   1.4s\n",
      "[CV 1/5] END ....C=0.1, gamma=0.001, kernel=rbf;, score=0.312 total time=   0.9s\n",
      "[CV 2/5] END ....C=0.1, gamma=0.001, kernel=rbf;, score=0.309 total time=   0.9s\n",
      "[CV 3/5] END ....C=0.1, gamma=0.001, kernel=rbf;, score=0.309 total time=   0.8s\n",
      "[CV 4/5] END ....C=0.1, gamma=0.001, kernel=rbf;, score=0.309 total time=   0.8s\n",
      "[CV 5/5] END ....C=0.1, gamma=0.001, kernel=rbf;, score=0.309 total time=   0.8s\n",
      "[CV 1/5] END C=1000, gamma=0.001, kernel=linear;, score=0.745 total time=   1.4s\n",
      "[CV 2/5] END C=1000, gamma=0.001, kernel=linear;, score=0.707 total time=   1.4s\n",
      "[CV 3/5] END C=1000, gamma=0.001, kernel=linear;, score=0.740 total time=   1.4s\n",
      "[CV 4/5] END C=1000, gamma=0.001, kernel=linear;, score=0.744 total time=   1.4s\n",
      "[CV 5/5] END C=1000, gamma=0.001, kernel=linear;, score=0.736 total time=   1.4s\n",
      "[CV 1/5] END ..C=1, gamma=0.0001, kernel=linear;, score=0.700 total time=   1.3s\n",
      "[CV 2/5] END ..C=1, gamma=0.0001, kernel=linear;, score=0.675 total time=   1.4s\n",
      "[CV 3/5] END ..C=1, gamma=0.0001, kernel=linear;, score=0.715 total time=   1.4s\n",
      "[CV 4/5] END ..C=1, gamma=0.0001, kernel=linear;, score=0.724 total time=   1.5s\n",
      "[CV 5/5] END ..C=1, gamma=0.0001, kernel=linear;, score=0.711 total time=   1.4s\n",
      "[CV 1/5] END ......C=100, gamma=0.1, kernel=rbf;, score=0.729 total time=   1.4s\n",
      "[CV 2/5] END ......C=100, gamma=0.1, kernel=rbf;, score=0.711 total time=   1.4s\n",
      "[CV 3/5] END ......C=100, gamma=0.1, kernel=rbf;, score=0.740 total time=   1.5s\n",
      "[CV 4/5] END ......C=100, gamma=0.1, kernel=rbf;, score=0.740 total time=   1.6s\n",
      "[CV 5/5] END ......C=100, gamma=0.1, kernel=rbf;, score=0.724 total time=   1.4s\n",
      "[CV 1/5] END .....C=0.1, gamma=1, kernel=linear;, score=0.312 total time=   1.2s\n",
      "[CV 2/5] END .....C=0.1, gamma=1, kernel=linear;, score=0.309 total time=   1.2s\n",
      "[CV 3/5] END .....C=0.1, gamma=1, kernel=linear;, score=0.309 total time=   1.2s\n",
      "[CV 4/5] END .....C=0.1, gamma=1, kernel=linear;, score=0.309 total time=   1.2s\n",
      "[CV 5/5] END .....C=0.1, gamma=1, kernel=linear;, score=0.309 total time=   1.2s\n",
      "[CV 1/5] END ...C=1, gamma=0.001, kernel=linear;, score=0.700 total time=   1.5s\n",
      "[CV 2/5] END ...C=1, gamma=0.001, kernel=linear;, score=0.675 total time=   1.4s\n",
      "[CV 3/5] END ...C=1, gamma=0.001, kernel=linear;, score=0.715 total time=   1.3s\n",
      "[CV 4/5] END ...C=1, gamma=0.001, kernel=linear;, score=0.724 total time=   1.3s\n",
      "[CV 5/5] END ...C=1, gamma=0.001, kernel=linear;, score=0.711 total time=   1.4s\n",
      "[CV 1/5] END .....C=0.1, gamma=0.01, kernel=rbf;, score=0.312 total time=   1.0s\n",
      "[CV 2/5] END .....C=0.1, gamma=0.01, kernel=rbf;, score=0.309 total time=   1.0s\n",
      "[CV 3/5] END .....C=0.1, gamma=0.01, kernel=rbf;, score=0.309 total time=   1.0s\n",
      "[CV 4/5] END .....C=0.1, gamma=0.01, kernel=rbf;, score=0.309 total time=   1.0s\n",
      "[CV 5/5] END .....C=0.1, gamma=0.01, kernel=rbf;, score=0.309 total time=   1.0s\n",
      "[CV 1/5] END ....C=1, gamma=0.01, kernel=linear;, score=0.700 total time=   1.3s\n",
      "[CV 2/5] END ....C=1, gamma=0.01, kernel=linear;, score=0.675 total time=   1.3s\n",
      "[CV 3/5] END ....C=1, gamma=0.01, kernel=linear;, score=0.715 total time=   1.3s\n",
      "[CV 4/5] END ....C=1, gamma=0.01, kernel=linear;, score=0.724 total time=   1.3s\n",
      "[CV 5/5] END ....C=1, gamma=0.01, kernel=linear;, score=0.711 total time=   1.3s\n"
     ]
    },
    {
     "data": {
      "text/html": [
       "<style>#sk-container-id-1 {color: black;background-color: white;}#sk-container-id-1 pre{padding: 0;}#sk-container-id-1 div.sk-toggleable {background-color: white;}#sk-container-id-1 label.sk-toggleable__label {cursor: pointer;display: block;width: 100%;margin-bottom: 0;padding: 0.3em;box-sizing: border-box;text-align: center;}#sk-container-id-1 label.sk-toggleable__label-arrow:before {content: \"▸\";float: left;margin-right: 0.25em;color: #696969;}#sk-container-id-1 label.sk-toggleable__label-arrow:hover:before {color: black;}#sk-container-id-1 div.sk-estimator:hover label.sk-toggleable__label-arrow:before {color: black;}#sk-container-id-1 div.sk-toggleable__content {max-height: 0;max-width: 0;overflow: hidden;text-align: left;background-color: #f0f8ff;}#sk-container-id-1 div.sk-toggleable__content pre {margin: 0.2em;color: black;border-radius: 0.25em;background-color: #f0f8ff;}#sk-container-id-1 input.sk-toggleable__control:checked~div.sk-toggleable__content {max-height: 200px;max-width: 100%;overflow: auto;}#sk-container-id-1 input.sk-toggleable__control:checked~label.sk-toggleable__label-arrow:before {content: \"▾\";}#sk-container-id-1 div.sk-estimator input.sk-toggleable__control:checked~label.sk-toggleable__label {background-color: #d4ebff;}#sk-container-id-1 div.sk-label input.sk-toggleable__control:checked~label.sk-toggleable__label {background-color: #d4ebff;}#sk-container-id-1 input.sk-hidden--visually {border: 0;clip: rect(1px 1px 1px 1px);clip: rect(1px, 1px, 1px, 1px);height: 1px;margin: -1px;overflow: hidden;padding: 0;position: absolute;width: 1px;}#sk-container-id-1 div.sk-estimator {font-family: monospace;background-color: #f0f8ff;border: 1px dotted black;border-radius: 0.25em;box-sizing: border-box;margin-bottom: 0.5em;}#sk-container-id-1 div.sk-estimator:hover {background-color: #d4ebff;}#sk-container-id-1 div.sk-parallel-item::after {content: \"\";width: 100%;border-bottom: 1px solid gray;flex-grow: 1;}#sk-container-id-1 div.sk-label:hover label.sk-toggleable__label {background-color: #d4ebff;}#sk-container-id-1 div.sk-serial::before {content: \"\";position: absolute;border-left: 1px solid gray;box-sizing: border-box;top: 0;bottom: 0;left: 50%;z-index: 0;}#sk-container-id-1 div.sk-serial {display: flex;flex-direction: column;align-items: center;background-color: white;padding-right: 0.2em;padding-left: 0.2em;position: relative;}#sk-container-id-1 div.sk-item {position: relative;z-index: 1;}#sk-container-id-1 div.sk-parallel {display: flex;align-items: stretch;justify-content: center;background-color: white;position: relative;}#sk-container-id-1 div.sk-item::before, #sk-container-id-1 div.sk-parallel-item::before {content: \"\";position: absolute;border-left: 1px solid gray;box-sizing: border-box;top: 0;bottom: 0;left: 50%;z-index: -1;}#sk-container-id-1 div.sk-parallel-item {display: flex;flex-direction: column;z-index: 1;position: relative;background-color: white;}#sk-container-id-1 div.sk-parallel-item:first-child::after {align-self: flex-end;width: 50%;}#sk-container-id-1 div.sk-parallel-item:last-child::after {align-self: flex-start;width: 50%;}#sk-container-id-1 div.sk-parallel-item:only-child::after {width: 0;}#sk-container-id-1 div.sk-dashed-wrapped {border: 1px dashed gray;margin: 0 0.4em 0.5em 0.4em;box-sizing: border-box;padding-bottom: 0.4em;background-color: white;}#sk-container-id-1 div.sk-label label {font-family: monospace;font-weight: bold;display: inline-block;line-height: 1.2em;}#sk-container-id-1 div.sk-label-container {text-align: center;}#sk-container-id-1 div.sk-container {/* jupyter's `normalize.less` sets `[hidden] { display: none; }` but bootstrap.min.css set `[hidden] { display: none !important; }` so we also need the `!important` here to be able to override the default hidden behavior on the sphinx rendered scikit-learn.org. See: https://github.com/scikit-learn/scikit-learn/issues/21755 */display: inline-block !important;position: relative;}#sk-container-id-1 div.sk-text-repr-fallback {display: none;}</style><div id=\"sk-container-id-1\" class=\"sk-top-container\"><div class=\"sk-text-repr-fallback\"><pre>RandomizedSearchCV(estimator=SVC(),\n",
       "                   param_distributions={&#x27;C&#x27;: [0.1, 1, 10, 100, 1000],\n",
       "                                        &#x27;gamma&#x27;: [1, 0.1, 0.01, 0.001, 0.0001],\n",
       "                                        &#x27;kernel&#x27;: [&#x27;rbf&#x27;, &#x27;linear&#x27;]},\n",
       "                   verbose=3)</pre><b>In a Jupyter environment, please rerun this cell to show the HTML representation or trust the notebook. <br />On GitHub, the HTML representation is unable to render, please try loading this page with nbviewer.org.</b></div><div class=\"sk-container\" hidden><div class=\"sk-item sk-dashed-wrapped\"><div class=\"sk-label-container\"><div class=\"sk-label sk-toggleable\"><input class=\"sk-toggleable__control sk-hidden--visually\" id=\"sk-estimator-id-1\" type=\"checkbox\" ><label for=\"sk-estimator-id-1\" class=\"sk-toggleable__label sk-toggleable__label-arrow\">RandomizedSearchCV</label><div class=\"sk-toggleable__content\"><pre>RandomizedSearchCV(estimator=SVC(),\n",
       "                   param_distributions={&#x27;C&#x27;: [0.1, 1, 10, 100, 1000],\n",
       "                                        &#x27;gamma&#x27;: [1, 0.1, 0.01, 0.001, 0.0001],\n",
       "                                        &#x27;kernel&#x27;: [&#x27;rbf&#x27;, &#x27;linear&#x27;]},\n",
       "                   verbose=3)</pre></div></div></div><div class=\"sk-parallel\"><div class=\"sk-parallel-item\"><div class=\"sk-item\"><div class=\"sk-label-container\"><div class=\"sk-label sk-toggleable\"><input class=\"sk-toggleable__control sk-hidden--visually\" id=\"sk-estimator-id-2\" type=\"checkbox\" ><label for=\"sk-estimator-id-2\" class=\"sk-toggleable__label sk-toggleable__label-arrow\">estimator: SVC</label><div class=\"sk-toggleable__content\"><pre>SVC()</pre></div></div></div><div class=\"sk-serial\"><div class=\"sk-item\"><div class=\"sk-estimator sk-toggleable\"><input class=\"sk-toggleable__control sk-hidden--visually\" id=\"sk-estimator-id-3\" type=\"checkbox\" ><label for=\"sk-estimator-id-3\" class=\"sk-toggleable__label sk-toggleable__label-arrow\">SVC</label><div class=\"sk-toggleable__content\"><pre>SVC()</pre></div></div></div></div></div></div></div></div></div></div>"
      ],
      "text/plain": [
       "RandomizedSearchCV(estimator=SVC(),\n",
       "                   param_distributions={'C': [0.1, 1, 10, 100, 1000],\n",
       "                                        'gamma': [1, 0.1, 0.01, 0.001, 0.0001],\n",
       "                                        'kernel': ['rbf', 'linear']},\n",
       "                   verbose=3)"
      ]
     },
     "execution_count": 19,
     "metadata": {},
     "output_type": "execute_result"
    }
   ],
   "source": [
    "from sklearn.model_selection import GridSearchCV,RandomizedSearchCV\n",
    "  \n",
    "# defining parameter range\n",
    "param_grid = {'C': [0.1, 1, 10, 100, 1000], \n",
    "              'gamma': [1, 0.1, 0.01, 0.001, 0.0001],\n",
    "              'kernel': ['rbf','linear']} \n",
    "  \n",
    "grid = RandomizedSearchCV(svm.SVC(), param_grid, refit = True, verbose = 3)\n",
    "  \n",
    "# fitting the model for grid search\n",
    "grid.fit(train_vectors, y_train)"
   ]
  },
  {
   "cell_type": "code",
   "execution_count": 20,
   "id": "cfef0a83-1d7a-4b62-b9e7-eccee8d437fa",
   "metadata": {},
   "outputs": [
    {
     "data": {
      "text/html": [
       "<style>#sk-container-id-2 {color: black;background-color: white;}#sk-container-id-2 pre{padding: 0;}#sk-container-id-2 div.sk-toggleable {background-color: white;}#sk-container-id-2 label.sk-toggleable__label {cursor: pointer;display: block;width: 100%;margin-bottom: 0;padding: 0.3em;box-sizing: border-box;text-align: center;}#sk-container-id-2 label.sk-toggleable__label-arrow:before {content: \"▸\";float: left;margin-right: 0.25em;color: #696969;}#sk-container-id-2 label.sk-toggleable__label-arrow:hover:before {color: black;}#sk-container-id-2 div.sk-estimator:hover label.sk-toggleable__label-arrow:before {color: black;}#sk-container-id-2 div.sk-toggleable__content {max-height: 0;max-width: 0;overflow: hidden;text-align: left;background-color: #f0f8ff;}#sk-container-id-2 div.sk-toggleable__content pre {margin: 0.2em;color: black;border-radius: 0.25em;background-color: #f0f8ff;}#sk-container-id-2 input.sk-toggleable__control:checked~div.sk-toggleable__content {max-height: 200px;max-width: 100%;overflow: auto;}#sk-container-id-2 input.sk-toggleable__control:checked~label.sk-toggleable__label-arrow:before {content: \"▾\";}#sk-container-id-2 div.sk-estimator input.sk-toggleable__control:checked~label.sk-toggleable__label {background-color: #d4ebff;}#sk-container-id-2 div.sk-label input.sk-toggleable__control:checked~label.sk-toggleable__label {background-color: #d4ebff;}#sk-container-id-2 input.sk-hidden--visually {border: 0;clip: rect(1px 1px 1px 1px);clip: rect(1px, 1px, 1px, 1px);height: 1px;margin: -1px;overflow: hidden;padding: 0;position: absolute;width: 1px;}#sk-container-id-2 div.sk-estimator {font-family: monospace;background-color: #f0f8ff;border: 1px dotted black;border-radius: 0.25em;box-sizing: border-box;margin-bottom: 0.5em;}#sk-container-id-2 div.sk-estimator:hover {background-color: #d4ebff;}#sk-container-id-2 div.sk-parallel-item::after {content: \"\";width: 100%;border-bottom: 1px solid gray;flex-grow: 1;}#sk-container-id-2 div.sk-label:hover label.sk-toggleable__label {background-color: #d4ebff;}#sk-container-id-2 div.sk-serial::before {content: \"\";position: absolute;border-left: 1px solid gray;box-sizing: border-box;top: 0;bottom: 0;left: 50%;z-index: 0;}#sk-container-id-2 div.sk-serial {display: flex;flex-direction: column;align-items: center;background-color: white;padding-right: 0.2em;padding-left: 0.2em;position: relative;}#sk-container-id-2 div.sk-item {position: relative;z-index: 1;}#sk-container-id-2 div.sk-parallel {display: flex;align-items: stretch;justify-content: center;background-color: white;position: relative;}#sk-container-id-2 div.sk-item::before, #sk-container-id-2 div.sk-parallel-item::before {content: \"\";position: absolute;border-left: 1px solid gray;box-sizing: border-box;top: 0;bottom: 0;left: 50%;z-index: -1;}#sk-container-id-2 div.sk-parallel-item {display: flex;flex-direction: column;z-index: 1;position: relative;background-color: white;}#sk-container-id-2 div.sk-parallel-item:first-child::after {align-self: flex-end;width: 50%;}#sk-container-id-2 div.sk-parallel-item:last-child::after {align-self: flex-start;width: 50%;}#sk-container-id-2 div.sk-parallel-item:only-child::after {width: 0;}#sk-container-id-2 div.sk-dashed-wrapped {border: 1px dashed gray;margin: 0 0.4em 0.5em 0.4em;box-sizing: border-box;padding-bottom: 0.4em;background-color: white;}#sk-container-id-2 div.sk-label label {font-family: monospace;font-weight: bold;display: inline-block;line-height: 1.2em;}#sk-container-id-2 div.sk-label-container {text-align: center;}#sk-container-id-2 div.sk-container {/* jupyter's `normalize.less` sets `[hidden] { display: none; }` but bootstrap.min.css set `[hidden] { display: none !important; }` so we also need the `!important` here to be able to override the default hidden behavior on the sphinx rendered scikit-learn.org. See: https://github.com/scikit-learn/scikit-learn/issues/21755 */display: inline-block !important;position: relative;}#sk-container-id-2 div.sk-text-repr-fallback {display: none;}</style><div id=\"sk-container-id-2\" class=\"sk-top-container\"><div class=\"sk-text-repr-fallback\"><pre>SVC(C=1000, gamma=0.001, kernel=&#x27;linear&#x27;)</pre><b>In a Jupyter environment, please rerun this cell to show the HTML representation or trust the notebook. <br />On GitHub, the HTML representation is unable to render, please try loading this page with nbviewer.org.</b></div><div class=\"sk-container\" hidden><div class=\"sk-item\"><div class=\"sk-estimator sk-toggleable\"><input class=\"sk-toggleable__control sk-hidden--visually\" id=\"sk-estimator-id-4\" type=\"checkbox\" checked><label for=\"sk-estimator-id-4\" class=\"sk-toggleable__label sk-toggleable__label-arrow\">SVC</label><div class=\"sk-toggleable__content\"><pre>SVC(C=1000, gamma=0.001, kernel=&#x27;linear&#x27;)</pre></div></div></div></div></div>"
      ],
      "text/plain": [
       "SVC(C=1000, gamma=0.001, kernel='linear')"
      ]
     },
     "execution_count": 20,
     "metadata": {},
     "output_type": "execute_result"
    }
   ],
   "source": [
    "grid.best_estimator_"
   ]
  },
  {
   "cell_type": "code",
   "execution_count": 21,
   "id": "bebce44a-0e80-4034-97de-81060b178ba9",
   "metadata": {},
   "outputs": [
    {
     "data": {
      "text/html": [
       "<style>#sk-container-id-3 {color: black;background-color: white;}#sk-container-id-3 pre{padding: 0;}#sk-container-id-3 div.sk-toggleable {background-color: white;}#sk-container-id-3 label.sk-toggleable__label {cursor: pointer;display: block;width: 100%;margin-bottom: 0;padding: 0.3em;box-sizing: border-box;text-align: center;}#sk-container-id-3 label.sk-toggleable__label-arrow:before {content: \"▸\";float: left;margin-right: 0.25em;color: #696969;}#sk-container-id-3 label.sk-toggleable__label-arrow:hover:before {color: black;}#sk-container-id-3 div.sk-estimator:hover label.sk-toggleable__label-arrow:before {color: black;}#sk-container-id-3 div.sk-toggleable__content {max-height: 0;max-width: 0;overflow: hidden;text-align: left;background-color: #f0f8ff;}#sk-container-id-3 div.sk-toggleable__content pre {margin: 0.2em;color: black;border-radius: 0.25em;background-color: #f0f8ff;}#sk-container-id-3 input.sk-toggleable__control:checked~div.sk-toggleable__content {max-height: 200px;max-width: 100%;overflow: auto;}#sk-container-id-3 input.sk-toggleable__control:checked~label.sk-toggleable__label-arrow:before {content: \"▾\";}#sk-container-id-3 div.sk-estimator input.sk-toggleable__control:checked~label.sk-toggleable__label {background-color: #d4ebff;}#sk-container-id-3 div.sk-label input.sk-toggleable__control:checked~label.sk-toggleable__label {background-color: #d4ebff;}#sk-container-id-3 input.sk-hidden--visually {border: 0;clip: rect(1px 1px 1px 1px);clip: rect(1px, 1px, 1px, 1px);height: 1px;margin: -1px;overflow: hidden;padding: 0;position: absolute;width: 1px;}#sk-container-id-3 div.sk-estimator {font-family: monospace;background-color: #f0f8ff;border: 1px dotted black;border-radius: 0.25em;box-sizing: border-box;margin-bottom: 0.5em;}#sk-container-id-3 div.sk-estimator:hover {background-color: #d4ebff;}#sk-container-id-3 div.sk-parallel-item::after {content: \"\";width: 100%;border-bottom: 1px solid gray;flex-grow: 1;}#sk-container-id-3 div.sk-label:hover label.sk-toggleable__label {background-color: #d4ebff;}#sk-container-id-3 div.sk-serial::before {content: \"\";position: absolute;border-left: 1px solid gray;box-sizing: border-box;top: 0;bottom: 0;left: 50%;z-index: 0;}#sk-container-id-3 div.sk-serial {display: flex;flex-direction: column;align-items: center;background-color: white;padding-right: 0.2em;padding-left: 0.2em;position: relative;}#sk-container-id-3 div.sk-item {position: relative;z-index: 1;}#sk-container-id-3 div.sk-parallel {display: flex;align-items: stretch;justify-content: center;background-color: white;position: relative;}#sk-container-id-3 div.sk-item::before, #sk-container-id-3 div.sk-parallel-item::before {content: \"\";position: absolute;border-left: 1px solid gray;box-sizing: border-box;top: 0;bottom: 0;left: 50%;z-index: -1;}#sk-container-id-3 div.sk-parallel-item {display: flex;flex-direction: column;z-index: 1;position: relative;background-color: white;}#sk-container-id-3 div.sk-parallel-item:first-child::after {align-self: flex-end;width: 50%;}#sk-container-id-3 div.sk-parallel-item:last-child::after {align-self: flex-start;width: 50%;}#sk-container-id-3 div.sk-parallel-item:only-child::after {width: 0;}#sk-container-id-3 div.sk-dashed-wrapped {border: 1px dashed gray;margin: 0 0.4em 0.5em 0.4em;box-sizing: border-box;padding-bottom: 0.4em;background-color: white;}#sk-container-id-3 div.sk-label label {font-family: monospace;font-weight: bold;display: inline-block;line-height: 1.2em;}#sk-container-id-3 div.sk-label-container {text-align: center;}#sk-container-id-3 div.sk-container {/* jupyter's `normalize.less` sets `[hidden] { display: none; }` but bootstrap.min.css set `[hidden] { display: none !important; }` so we also need the `!important` here to be able to override the default hidden behavior on the sphinx rendered scikit-learn.org. See: https://github.com/scikit-learn/scikit-learn/issues/21755 */display: inline-block !important;position: relative;}#sk-container-id-3 div.sk-text-repr-fallback {display: none;}</style><div id=\"sk-container-id-3\" class=\"sk-top-container\"><div class=\"sk-text-repr-fallback\"><pre>SVC(C=1000, gamma=0.001, kernel=&#x27;linear&#x27;)</pre><b>In a Jupyter environment, please rerun this cell to show the HTML representation or trust the notebook. <br />On GitHub, the HTML representation is unable to render, please try loading this page with nbviewer.org.</b></div><div class=\"sk-container\" hidden><div class=\"sk-item\"><div class=\"sk-estimator sk-toggleable\"><input class=\"sk-toggleable__control sk-hidden--visually\" id=\"sk-estimator-id-5\" type=\"checkbox\" checked><label for=\"sk-estimator-id-5\" class=\"sk-toggleable__label sk-toggleable__label-arrow\">SVC</label><div class=\"sk-toggleable__content\"><pre>SVC(C=1000, gamma=0.001, kernel=&#x27;linear&#x27;)</pre></div></div></div></div></div>"
      ],
      "text/plain": [
       "SVC(C=1000, gamma=0.001, kernel='linear')"
      ]
     },
     "execution_count": 21,
     "metadata": {},
     "output_type": "execute_result"
    }
   ],
   "source": [
    "final_model= grid.best_estimator_\n",
    "final_model.fit(train_vectors,y_train)"
   ]
  },
  {
   "cell_type": "code",
   "execution_count": 22,
   "id": "3811a34f-0d20-4194-bc3e-a87affdd709e",
   "metadata": {},
   "outputs": [
    {
     "name": "stdout",
     "output_type": "stream",
     "text": [
      "Accuracy Score : 0.788961038961039\n",
      "Report : \n",
      "                 precision    recall  f1-score   support\n",
      "\n",
      "        fantasy       0.82      0.94      0.88        69\n",
      "        history       0.79      0.61      0.69        18\n",
      "         horror       0.43      0.20      0.27        15\n",
      "     psychology       0.85      0.81      0.83        21\n",
      "        romance       0.64      0.29      0.40        24\n",
      "        science       0.94      0.71      0.81        21\n",
      "science_fiction       1.00      0.80      0.89         5\n",
      "         sports       0.91      0.59      0.71        17\n",
      "       thriller       0.74      0.95      0.83       100\n",
      "         travel       0.94      0.89      0.91        18\n",
      "\n",
      "       accuracy                           0.79       308\n",
      "      macro avg       0.80      0.68      0.72       308\n",
      "   weighted avg       0.78      0.79      0.77       308\n",
      "\n"
     ]
    }
   ],
   "source": [
    "pred=final_model.predict(test_vectors)\n",
    "print( 'Accuracy Score :',accuracy_score(y_test,pred) )\n",
    "print ('Report : ')\n",
    "print(classification_report(y_test,pred))\n"
   ]
  },
  {
   "cell_type": "markdown",
   "id": "c781de82-2334-4ce5-85b7-7b82f2ac8a30",
   "metadata": {},
   "source": [
    "## Observation\n",
    "\n",
    "1. After hyperparameter tunning model accuarcy as increased to 79 from 77 \n",
    "2. Further acuracy can be increased by adding some more data to datasets\n",
    "3. Final accuracy for the given dataset is 79%\n",
    "4. As we can observe from bar plot for genre feature it shows little imbalance between class further by balancing[SMOTE] also we can try to increase accuracy"
   ]
  },
  {
   "cell_type": "markdown",
   "id": "bc30acb8-6668-429a-a9e3-cabb0f7dbe93",
   "metadata": {},
   "source": [
    "#### Random Testing"
   ]
  },
  {
   "cell_type": "code",
   "execution_count": 23,
   "id": "804cc72d-c23d-4712-9e7c-80d5c744be98",
   "metadata": {},
   "outputs": [
    {
     "name": "stdout",
     "output_type": "stream",
     "text": [
      "\n",
      "Book:  C.S. Lewis\n",
      "\n",
      "Predicted genre:  ['fantasy']\n",
      "\n",
      "Actual genre:  fantasy \n",
      "\n",
      "***************************************\n"
     ]
    }
   ],
   "source": [
    "def testing(val):\n",
    "    val = clean_nonalph(val)\n",
    "    val = removestopwords(val)\n",
    "    val = lematizing(val)\n",
    "    val = stemming(val)\n",
    "    val_vec = vectorizer.transform([val])\n",
    "    val_pred = final_model.predict(val_vec)\n",
    "    return val_pred\n",
    "    #return q_pred[0]\n",
    "\n",
    "import random\n",
    "num1 = random.randint(0, 1539)\n",
    "k = data.synopsis[num1] \n",
    "print(\"\\nBook: \", data['name'][num1], )\n",
    "print(\"\\nPredicted genre: \",testing(data.synopsis[num1]))\n",
    "print(\"\\nActual genre: \",data['genre'][num1], \"\\n\")\n",
    "print(\"***************************************\")"
   ]
  },
  {
   "cell_type": "markdown",
   "id": "d65690f2-de9c-4774-80b3-6ebc85668bcf",
   "metadata": {},
   "source": [
    "## Task 2: Rating Prediction"
   ]
  },
  {
   "cell_type": "code",
   "execution_count": 24,
   "id": "8e6ae15d-507b-458b-bd30-616ece0874a3",
   "metadata": {},
   "outputs": [
    {
     "data": {
      "text/html": [
       "<div>\n",
       "<style scoped>\n",
       "    .dataframe tbody tr th:only-of-type {\n",
       "        vertical-align: middle;\n",
       "    }\n",
       "\n",
       "    .dataframe tbody tr th {\n",
       "        vertical-align: top;\n",
       "    }\n",
       "\n",
       "    .dataframe thead th {\n",
       "        text-align: right;\n",
       "    }\n",
       "</style>\n",
       "<table border=\"1\" class=\"dataframe\">\n",
       "  <thead>\n",
       "    <tr style=\"text-align: right;\">\n",
       "      <th></th>\n",
       "      <th>title</th>\n",
       "      <th>rating</th>\n",
       "      <th>name</th>\n",
       "      <th>num_ratings</th>\n",
       "      <th>num_reviews</th>\n",
       "      <th>num_followers</th>\n",
       "      <th>synopsis</th>\n",
       "      <th>genre</th>\n",
       "    </tr>\n",
       "  </thead>\n",
       "  <tbody>\n",
       "    <tr>\n",
       "      <th>0</th>\n",
       "      <td>Sapiens: A Brief History of Humankind</td>\n",
       "      <td>4.39</td>\n",
       "      <td>Yuval Noah Harari</td>\n",
       "      <td>8,06,229</td>\n",
       "      <td>46,149</td>\n",
       "      <td>30.5k</td>\n",
       "      <td>100,000 years ago, at least six human species ...</td>\n",
       "      <td>history</td>\n",
       "    </tr>\n",
       "    <tr>\n",
       "      <th>1</th>\n",
       "      <td>Guns, Germs, and Steel: The Fates of Human Soc...</td>\n",
       "      <td>4.04</td>\n",
       "      <td>Jared Diamond</td>\n",
       "      <td>3,67,056</td>\n",
       "      <td>12,879</td>\n",
       "      <td>6,538</td>\n",
       "      <td>\"Diamond has written a book of remarkable scop...</td>\n",
       "      <td>history</td>\n",
       "    </tr>\n",
       "    <tr>\n",
       "      <th>2</th>\n",
       "      <td>A People's History of the United States</td>\n",
       "      <td>4.07</td>\n",
       "      <td>Howard Zinn</td>\n",
       "      <td>2,24,620</td>\n",
       "      <td>6,509</td>\n",
       "      <td>2,354</td>\n",
       "      <td>In the book, Zinn presented a different side o...</td>\n",
       "      <td>history</td>\n",
       "    </tr>\n",
       "    <tr>\n",
       "      <th>3</th>\n",
       "      <td>The Devil in the White City: Murder, Magic, an...</td>\n",
       "      <td>3.99</td>\n",
       "      <td>Erik Larson</td>\n",
       "      <td>6,13,157</td>\n",
       "      <td>36,644</td>\n",
       "      <td>64.2k</td>\n",
       "      <td>Author Erik Larson imbues the incredible event...</td>\n",
       "      <td>history</td>\n",
       "    </tr>\n",
       "    <tr>\n",
       "      <th>4</th>\n",
       "      <td>The Diary of a Young Girl</td>\n",
       "      <td>4.18</td>\n",
       "      <td>Anne Frank</td>\n",
       "      <td>33,13,033</td>\n",
       "      <td>35,591</td>\n",
       "      <td>4,621</td>\n",
       "      <td>Discovered in the attic in which she spent the...</td>\n",
       "      <td>history</td>\n",
       "    </tr>\n",
       "  </tbody>\n",
       "</table>\n",
       "</div>"
      ],
      "text/plain": [
       "                                               title  rating  \\\n",
       "0              Sapiens: A Brief History of Humankind    4.39   \n",
       "1  Guns, Germs, and Steel: The Fates of Human Soc...    4.04   \n",
       "2            A People's History of the United States    4.07   \n",
       "3  The Devil in the White City: Murder, Magic, an...    3.99   \n",
       "4                          The Diary of a Young Girl    4.18   \n",
       "\n",
       "                name num_ratings num_reviews num_followers  \\\n",
       "0  Yuval Noah Harari    8,06,229      46,149         30.5k   \n",
       "1      Jared Diamond    3,67,056      12,879         6,538   \n",
       "2        Howard Zinn    2,24,620       6,509         2,354   \n",
       "3        Erik Larson    6,13,157      36,644         64.2k   \n",
       "4         Anne Frank   33,13,033      35,591         4,621   \n",
       "\n",
       "                                            synopsis    genre  \n",
       "0  100,000 years ago, at least six human species ...  history  \n",
       "1  \"Diamond has written a book of remarkable scop...  history  \n",
       "2  In the book, Zinn presented a different side o...  history  \n",
       "3  Author Erik Larson imbues the incredible event...  history  \n",
       "4  Discovered in the attic in which she spent the...  history  "
      ]
     },
     "execution_count": 24,
     "metadata": {},
     "output_type": "execute_result"
    }
   ],
   "source": [
    "df = data.copy()\n",
    "df.head()"
   ]
  },
  {
   "cell_type": "markdown",
   "id": "a6d61167-6962-4386-bf6f-34be4487f0dd",
   "metadata": {},
   "source": [
    "For predicting the ratings we can consider only the title number of ratings ,reviews and follower as ratings mainly depends on author,type of books the \n",
    "author writes and author followes and number of reviews on particular book.Synopsis can be droped as it not be more important than other features explained above"
   ]
  },
  {
   "cell_type": "code",
   "execution_count": 25,
   "id": "013eb44d-c5cc-4986-ad6c-feb45a8ee851",
   "metadata": {},
   "outputs": [],
   "source": [
    "df[\"num_ratings\"] = df[\"num_ratings\"].apply(lambda x: x.replace(\",\", \"\"))\n",
    "df['num_ratings'] = df['num_ratings'].astype(int)"
   ]
  },
  {
   "cell_type": "code",
   "execution_count": 26,
   "id": "c7615595-4a06-4fb6-bd05-52695d9fab54",
   "metadata": {},
   "outputs": [
    {
     "name": "stderr",
     "output_type": "stream",
     "text": [
      "/opt/anaconda3/lib/python3.9/site-packages/seaborn/_decorators.py:36: FutureWarning: Pass the following variables as keyword args: x, y. From version 0.12, the only valid positional argument will be `data`, and passing other arguments without an explicit keyword will result in an error or misinterpretation.\n",
      "  warnings.warn(\n"
     ]
    },
    {
     "data": {
      "text/plain": [
       "Text(0.5, 1.0, 'Top 10 books based on number of ratings')"
      ]
     },
     "execution_count": 26,
     "metadata": {},
     "output_type": "execute_result"
    },
    {
     "data": {
      "image/png": "[encoded data removed]",
      "text/plain": [
       "<Figure size 640x480 with 1 Axes>"
      ]
     },
     "metadata": {},
     "output_type": "display_data"
    }
   ],
   "source": [
    "# Top 10 books based on number of ratings\n",
    "\n",
    "top_books = df.nlargest(10, ['num_ratings']).set_index('title')['num_ratings']\n",
    "sb.barplot(top_books, top_books.index)\n",
    "plt.title('Top 10 books based on number of ratings')"
   ]
  },
  {
   "cell_type": "code",
   "execution_count": 27,
   "id": "e5cbf10c-bd4f-4a9b-b99c-297e658ec2dd",
   "metadata": {},
   "outputs": [
    {
     "name": "stderr",
     "output_type": "stream",
     "text": [
      "/opt/anaconda3/lib/python3.9/site-packages/seaborn/_decorators.py:36: FutureWarning: Pass the following variables as keyword args: x, y. From version 0.12, the only valid positional argument will be `data`, and passing other arguments without an explicit keyword will result in an error or misinterpretation.\n",
      "  warnings.warn(\n"
     ]
    },
    {
     "data": {
      "text/plain": [
       "(array([ 0,  1,  2,  3,  4,  5,  6,  7,  8,  9, 10, 11, 12, 13, 14]),\n",
       " [Text(0, 0, '3.94'),\n",
       "  Text(1, 0, '3.95'),\n",
       "  Text(2, 0, '3.98'),\n",
       "  Text(3, 0, '3.99'),\n",
       "  Text(4, 0, '4.03'),\n",
       "  Text(5, 0, '4.04'),\n",
       "  Text(6, 0, '4.05'),\n",
       "  Text(7, 0, '4.06'),\n",
       "  Text(8, 0, '4.08'),\n",
       "  Text(9, 0, '4.09'),\n",
       "  Text(10, 0, '4.11'),\n",
       "  Text(11, 0, '4.12'),\n",
       "  Text(12, 0, '4.14'),\n",
       "  Text(13, 0, '4.15'),\n",
       "  Text(14, 0, '4.16')])"
      ]
     },
     "execution_count": 27,
     "metadata": {},
     "output_type": "execute_result"
    },
    {
     "data": {
      "image/png": "[encoded data removed]",
      "text/plain": [
       "<Figure size 640x480 with 1 Axes>"
      ]
     },
     "metadata": {},
     "output_type": "display_data"
    }
   ],
   "source": [
    "#books count based on ratings\n",
    "sb.barplot(df['rating'].value_counts().head(15).index, df['rating'].value_counts().head(15))\n",
    "plt.title('Number of Books Each Rating Received\\n')\n",
    "plt.xlabel('Ratings')\n",
    "plt.ylabel('Counts')\n",
    "plt.xticks(rotation=45)"
   ]
  },
  {
   "cell_type": "markdown",
   "id": "71539793-5379-4234-951d-19e15a984733",
   "metadata": {},
   "source": [
    "We can observe that 4.05 is highest rating frequency for book present in given dataset"
   ]
  },
  {
   "cell_type": "code",
   "execution_count": 28,
   "id": "3d7e7b76-1ea2-4ffa-8b3a-88c0f9326546",
   "metadata": {},
   "outputs": [],
   "source": [
    "df[\"num_followers\"] = df[\"num_followers\"].apply(lambda x: x.replace(\",\", \"\").replace(\"k\",\"\").replace(\" followers\",\"\"))"
   ]
  },
  {
   "cell_type": "code",
   "execution_count": 29,
   "id": "5101c0ef-88e9-4ac6-9a62-be634088885b",
   "metadata": {},
   "outputs": [],
   "source": [
    "df['num_followers']= df['num_followers'].astype(float)"
   ]
  },
  {
   "cell_type": "code",
   "execution_count": 30,
   "id": "6eaf4b96-8d0a-4a7f-a9c1-aa5c72bca511",
   "metadata": {},
   "outputs": [
    {
     "data": {
      "text/plain": [
       "Text(0.5, 1.0, 'top author based on number of followers')"
      ]
     },
     "execution_count": 30,
     "metadata": {},
     "output_type": "execute_result"
    },
    {
     "data": {
      "image/png": "[encoded data removed]",
      "text/plain": [
       "<Figure size 640x480 with 1 Axes>"
      ]
     },
     "metadata": {},
     "output_type": "display_data"
    }
   ],
   "source": [
    "sb.barplot(x = 'num_followers',y = 'name', data = df.sort_values(by=['num_followers'],ascending=False)[:100])\n",
    "plt.title(\"top author based on number of followers\")"
   ]
  },
  {
   "cell_type": "markdown",
   "id": "f95dc825-f24b-4cc4-802e-2c9df6e49887",
   "metadata": {},
   "source": [
    "#### Data Preprocessing"
   ]
  },
  {
   "cell_type": "code",
   "execution_count": 31,
   "id": "99bf47be-f0b6-47f9-b925-c5ec57f67944",
   "metadata": {},
   "outputs": [],
   "source": [
    "#required libraries\n",
    "from sklearn.preprocessing import LabelEncoder\n",
    "from sklearn.linear_model import LinearRegression\n",
    "from sklearn.ensemble import AdaBoostRegressor\n",
    "from sklearn.ensemble import RandomForestRegressor\n",
    "from xgboost import XGBRegressor\n",
    "\n",
    "from sklearn.metrics import mean_squared_error,r2_score,mean_absolute_error\n"
   ]
  },
  {
   "cell_type": "code",
   "execution_count": 32,
   "id": "998c2e7b-dac3-46df-ab83-87b2babbea1b",
   "metadata": {},
   "outputs": [],
   "source": [
    "df[\"num_reviews\"] = df[\"num_reviews\"].apply(lambda x: x.replace(\",\", \"\"))\n",
    "df['num_reviews'] = df['num_reviews'].astype(int)"
   ]
  },
  {
   "cell_type": "code",
   "execution_count": 34,
   "id": "ffc7e578-8737-482e-86d8-ac77b25127dd",
   "metadata": {},
   "outputs": [],
   "source": [
    "features = df.drop(['synopsis','rating'],axis= 1)\n",
    "y = df[['rating']]"
   ]
  },
  {
   "cell_type": "code",
   "execution_count": 35,
   "id": "7ff285d6-5119-4217-93ab-09cec7fa385b",
   "metadata": {},
   "outputs": [
    {
     "data": {
      "text/plain": [
       "title             object\n",
       "name              object\n",
       "num_ratings        int64\n",
       "num_reviews        int64\n",
       "num_followers    float64\n",
       "genre             object\n",
       "dtype: object"
      ]
     },
     "execution_count": 35,
     "metadata": {},
     "output_type": "execute_result"
    }
   ],
   "source": [
    "#Categorical Encoding\n",
    "features.dtypes"
   ]
  },
  {
   "cell_type": "code",
   "execution_count": 36,
   "id": "1fde86c7-a017-4df0-8bf2-ce5156dd105d",
   "metadata": {},
   "outputs": [],
   "source": [
    "le = LabelEncoder()\n",
    "features['title'] = le.fit_transform(features['title'])\n",
    "features['name'] = le.fit_transform(features['name'])\n",
    "features['genre'] = le.fit_transform(features['genre'])"
   ]
  },
  {
   "cell_type": "code",
   "execution_count": 37,
   "id": "df0a9932-d0c1-4b5b-8a9d-ff7067038f45",
   "metadata": {},
   "outputs": [
    {
     "data": {
      "image/png": "[encoded data removed]",
      "text/plain": [
       "<Figure size 2000x1000 with 2 Axes>"
      ]
     },
     "metadata": {},
     "output_type": "display_data"
    }
   ],
   "source": [
    "#feature selection using correlation heatmap\n",
    "plt.figure(figsize=(20,10))\n",
    "cor = features.corr()\n",
    "sb.heatmap(cor, annot=True, cmap=plt.cm.CMRmap_r)\n",
    "plt.show()"
   ]
  },
  {
   "cell_type": "markdown",
   "id": "4ae84892-63a5-4f8c-8067-a679d4e532cf",
   "metadata": {},
   "source": [
    "We can observe that number of ratings and reviwes highly correlated each so we can use either of one,lets drop number of reviews"
   ]
  },
  {
   "cell_type": "code",
   "execution_count": 38,
   "id": "ee435cfe-7466-47a8-8ff0-dd9bf999e298",
   "metadata": {},
   "outputs": [],
   "source": [
    "features = features.drop(['num_reviews'],axis = 1)"
   ]
  },
  {
   "cell_type": "code",
   "execution_count": 39,
   "id": "8209efe3-46cb-41a3-913c-375c38ca9276",
   "metadata": {},
   "outputs": [],
   "source": [
    "## Model traing\n",
    "\n",
    "x_train,x_test,y_train,y_test = train_test_split(features,y,test_size = 0.2,random_state= 42)"
   ]
  },
  {
   "cell_type": "code",
   "execution_count": 40,
   "id": "e93156cd-2ee7-4d8a-9bc8-de2b201e9c50",
   "metadata": {},
   "outputs": [
    {
     "name": "stderr",
     "output_type": "stream",
     "text": [
      "/tmp/ipykernel_253/4014286085.py:10: DataConversionWarning: A column-vector y was passed when a 1d array was expected. Please change the shape of y to (n_samples,), for example using ravel().\n",
      "  model.fit(x_train,y_train)\n",
      "/opt/anaconda3/lib/python3.9/site-packages/sklearn/utils/validation.py:1111: DataConversionWarning: A column-vector y was passed when a 1d array was expected. Please change the shape of y to (n_samples, ), for example using ravel().\n",
      "  y = column_or_1d(y, warn=True)\n"
     ]
    },
    {
     "name": "stdout",
     "output_type": "stream",
     "text": [
      "Train score {'LinearRegression': 0.11231604476943025, 'RandomForestRegressor': 0.9020574905693594, 'Adaboost': 0.21958807469553432, 'XGBOOST': 0.9733386092681411}\n",
      "Test score {'LinearRegression': 0.12783199189248617, 'RandomForestRegressor': 0.27495741677292207, 'Adaboost': 0.1124123614761039, 'XGBOOST': 0.2720177425260778}\n"
     ]
    }
   ],
   "source": [
    "models = {\"LinearRegression\": LinearRegression(),\n",
    "          \"RandomForestRegressor\": RandomForestRegressor(n_estimators = 100),\n",
    "         \"Adaboost\": AdaBoostRegressor(n_estimators=100),\n",
    "         \"XGBOOST\":XGBRegressor(seed=42)}\n",
    "\n",
    "def fit_and_score(models,x_train,y_train,x_test,y_test):\n",
    "    model_scores = {}\n",
    "    model_test_score = {}\n",
    "    for name, model in models.items():\n",
    "        model.fit(x_train,y_train)\n",
    "        model_scores[name] = model.score(x_train,y_train)\n",
    "        model_test_score[name] = model.score(x_test,y_test)\n",
    "    print(\"Train score\" ,model_scores)\n",
    "    print(\"Test score\",model_test_score)\n",
    "\n",
    "model_scores = fit_and_score(models, x_train,y_train,x_test,y_test)\n",
    "\n",
    "model_scores"
   ]
  },
  {
   "cell_type": "markdown",
   "id": "8688c607-d3a6-4706-9ae6-324e06a59669",
   "metadata": {},
   "source": [
    "we can observe that XGBOOST Regressor shows best traing score lets consider XGB and tune it for further analysis"
   ]
  },
  {
   "cell_type": "code",
   "execution_count": 41,
   "id": "918d1f35-dde2-41d8-a584-8692f2568dbb",
   "metadata": {},
   "outputs": [
    {
     "data": {
      "text/html": [
       "<style>#sk-container-id-4 {color: black;background-color: white;}#sk-container-id-4 pre{padding: 0;}#sk-container-id-4 div.sk-toggleable {background-color: white;}#sk-container-id-4 label.sk-toggleable__label {cursor: pointer;display: block;width: 100%;margin-bottom: 0;padding: 0.3em;box-sizing: border-box;text-align: center;}#sk-container-id-4 label.sk-toggleable__label-arrow:before {content: \"▸\";float: left;margin-right: 0.25em;color: #696969;}#sk-container-id-4 label.sk-toggleable__label-arrow:hover:before {color: black;}#sk-container-id-4 div.sk-estimator:hover label.sk-toggleable__label-arrow:before {color: black;}#sk-container-id-4 div.sk-toggleable__content {max-height: 0;max-width: 0;overflow: hidden;text-align: left;background-color: #f0f8ff;}#sk-container-id-4 div.sk-toggleable__content pre {margin: 0.2em;color: black;border-radius: 0.25em;background-color: #f0f8ff;}#sk-container-id-4 input.sk-toggleable__control:checked~div.sk-toggleable__content {max-height: 200px;max-width: 100%;overflow: auto;}#sk-container-id-4 input.sk-toggleable__control:checked~label.sk-toggleable__label-arrow:before {content: \"▾\";}#sk-container-id-4 div.sk-estimator input.sk-toggleable__control:checked~label.sk-toggleable__label {background-color: #d4ebff;}#sk-container-id-4 div.sk-label input.sk-toggleable__control:checked~label.sk-toggleable__label {background-color: #d4ebff;}#sk-container-id-4 input.sk-hidden--visually {border: 0;clip: rect(1px 1px 1px 1px);clip: rect(1px, 1px, 1px, 1px);height: 1px;margin: -1px;overflow: hidden;padding: 0;position: absolute;width: 1px;}#sk-container-id-4 div.sk-estimator {font-family: monospace;background-color: #f0f8ff;border: 1px dotted black;border-radius: 0.25em;box-sizing: border-box;margin-bottom: 0.5em;}#sk-container-id-4 div.sk-estimator:hover {background-color: #d4ebff;}#sk-container-id-4 div.sk-parallel-item::after {content: \"\";width: 100%;border-bottom: 1px solid gray;flex-grow: 1;}#sk-container-id-4 div.sk-label:hover label.sk-toggleable__label {background-color: #d4ebff;}#sk-container-id-4 div.sk-serial::before {content: \"\";position: absolute;border-left: 1px solid gray;box-sizing: border-box;top: 0;bottom: 0;left: 50%;z-index: 0;}#sk-container-id-4 div.sk-serial {display: flex;flex-direction: column;align-items: center;background-color: white;padding-right: 0.2em;padding-left: 0.2em;position: relative;}#sk-container-id-4 div.sk-item {position: relative;z-index: 1;}#sk-container-id-4 div.sk-parallel {display: flex;align-items: stretch;justify-content: center;background-color: white;position: relative;}#sk-container-id-4 div.sk-item::before, #sk-container-id-4 div.sk-parallel-item::before {content: \"\";position: absolute;border-left: 1px solid gray;box-sizing: border-box;top: 0;bottom: 0;left: 50%;z-index: -1;}#sk-container-id-4 div.sk-parallel-item {display: flex;flex-direction: column;z-index: 1;position: relative;background-color: white;}#sk-container-id-4 div.sk-parallel-item:first-child::after {align-self: flex-end;width: 50%;}#sk-container-id-4 div.sk-parallel-item:last-child::after {align-self: flex-start;width: 50%;}#sk-container-id-4 div.sk-parallel-item:only-child::after {width: 0;}#sk-container-id-4 div.sk-dashed-wrapped {border: 1px dashed gray;margin: 0 0.4em 0.5em 0.4em;box-sizing: border-box;padding-bottom: 0.4em;background-color: white;}#sk-container-id-4 div.sk-label label {font-family: monospace;font-weight: bold;display: inline-block;line-height: 1.2em;}#sk-container-id-4 div.sk-label-container {text-align: center;}#sk-container-id-4 div.sk-container {/* jupyter's `normalize.less` sets `[hidden] { display: none; }` but bootstrap.min.css set `[hidden] { display: none !important; }` so we also need the `!important` here to be able to override the default hidden behavior on the sphinx rendered scikit-learn.org. See: https://github.com/scikit-learn/scikit-learn/issues/21755 */display: inline-block !important;position: relative;}#sk-container-id-4 div.sk-text-repr-fallback {display: none;}</style><div id=\"sk-container-id-4\" class=\"sk-top-container\"><div class=\"sk-text-repr-fallback\"><pre>GridSearchCV(cv=5,\n",
       "             estimator=XGBRegressor(base_score=None, booster=None,\n",
       "                                    callbacks=None, colsample_bylevel=None,\n",
       "                                    colsample_bynode=None,\n",
       "                                    colsample_bytree=None,\n",
       "                                    early_stopping_rounds=None,\n",
       "                                    enable_categorical=False, eval_metric=None,\n",
       "                                    gamma=None, gpu_id=None, grow_policy=None,\n",
       "                                    importance_type=None,\n",
       "                                    interaction_constraints=None,\n",
       "                                    learning_rate=None, max_bin=None,\n",
       "                                    max_cat_to_onehot=None, max_delta_step=None,\n",
       "                                    max_depth=None, max_leaves=None,\n",
       "                                    min_child_weight=None, missing=nan,\n",
       "                                    monotone_constraints=None, n_estimators=100,\n",
       "                                    n_jobs=None, num_parallel_tree=None,\n",
       "                                    predictor=None, random_state=None,\n",
       "                                    reg_alpha=None, reg_lambda=None, ...),\n",
       "             param_grid={&#x27;learning_rate&#x27;: [0.01, 0.02], &#x27;max_depth&#x27;: [5, 10],\n",
       "                         &#x27;n_estimators&#x27;: [100, 500]})</pre><b>In a Jupyter environment, please rerun this cell to show the HTML representation or trust the notebook. <br />On GitHub, the HTML representation is unable to render, please try loading this page with nbviewer.org.</b></div><div class=\"sk-container\" hidden><div class=\"sk-item sk-dashed-wrapped\"><div class=\"sk-label-container\"><div class=\"sk-label sk-toggleable\"><input class=\"sk-toggleable__control sk-hidden--visually\" id=\"sk-estimator-id-6\" type=\"checkbox\" ><label for=\"sk-estimator-id-6\" class=\"sk-toggleable__label sk-toggleable__label-arrow\">GridSearchCV</label><div class=\"sk-toggleable__content\"><pre>GridSearchCV(cv=5,\n",
       "             estimator=XGBRegressor(base_score=None, booster=None,\n",
       "                                    callbacks=None, colsample_bylevel=None,\n",
       "                                    colsample_bynode=None,\n",
       "                                    colsample_bytree=None,\n",
       "                                    early_stopping_rounds=None,\n",
       "                                    enable_categorical=False, eval_metric=None,\n",
       "                                    gamma=None, gpu_id=None, grow_policy=None,\n",
       "                                    importance_type=None,\n",
       "                                    interaction_constraints=None,\n",
       "                                    learning_rate=None, max_bin=None,\n",
       "                                    max_cat_to_onehot=None, max_delta_step=None,\n",
       "                                    max_depth=None, max_leaves=None,\n",
       "                                    min_child_weight=None, missing=nan,\n",
       "                                    monotone_constraints=None, n_estimators=100,\n",
       "                                    n_jobs=None, num_parallel_tree=None,\n",
       "                                    predictor=None, random_state=None,\n",
       "                                    reg_alpha=None, reg_lambda=None, ...),\n",
       "             param_grid={&#x27;learning_rate&#x27;: [0.01, 0.02], &#x27;max_depth&#x27;: [5, 10],\n",
       "                         &#x27;n_estimators&#x27;: [100, 500]})</pre></div></div></div><div class=\"sk-parallel\"><div class=\"sk-parallel-item\"><div class=\"sk-item\"><div class=\"sk-label-container\"><div class=\"sk-label sk-toggleable\"><input class=\"sk-toggleable__control sk-hidden--visually\" id=\"sk-estimator-id-7\" type=\"checkbox\" ><label for=\"sk-estimator-id-7\" class=\"sk-toggleable__label sk-toggleable__label-arrow\">estimator: XGBRegressor</label><div class=\"sk-toggleable__content\"><pre>XGBRegressor(base_score=None, booster=None, callbacks=None,\n",
       "             colsample_bylevel=None, colsample_bynode=None,\n",
       "             colsample_bytree=None, early_stopping_rounds=None,\n",
       "             enable_categorical=False, eval_metric=None, gamma=None,\n",
       "             gpu_id=None, grow_policy=None, importance_type=None,\n",
       "             interaction_constraints=None, learning_rate=None, max_bin=None,\n",
       "             max_cat_to_onehot=None, max_delta_step=None, max_depth=None,\n",
       "             max_leaves=None, min_child_weight=None, missing=nan,\n",
       "             monotone_constraints=None, n_estimators=100, n_jobs=None,\n",
       "             num_parallel_tree=None, predictor=None, random_state=None,\n",
       "             reg_alpha=None, reg_lambda=None, ...)</pre></div></div></div><div class=\"sk-serial\"><div class=\"sk-item\"><div class=\"sk-estimator sk-toggleable\"><input class=\"sk-toggleable__control sk-hidden--visually\" id=\"sk-estimator-id-8\" type=\"checkbox\" ><label for=\"sk-estimator-id-8\" class=\"sk-toggleable__label sk-toggleable__label-arrow\">XGBRegressor</label><div class=\"sk-toggleable__content\"><pre>XGBRegressor(base_score=None, booster=None, callbacks=None,\n",
       "             colsample_bylevel=None, colsample_bynode=None,\n",
       "             colsample_bytree=None, early_stopping_rounds=None,\n",
       "             enable_categorical=False, eval_metric=None, gamma=None,\n",
       "             gpu_id=None, grow_policy=None, importance_type=None,\n",
       "             interaction_constraints=None, learning_rate=None, max_bin=None,\n",
       "             max_cat_to_onehot=None, max_delta_step=None, max_depth=None,\n",
       "             max_leaves=None, min_child_weight=None, missing=nan,\n",
       "             monotone_constraints=None, n_estimators=100, n_jobs=None,\n",
       "             num_parallel_tree=None, predictor=None, random_state=None,\n",
       "             reg_alpha=None, reg_lambda=None, ...)</pre></div></div></div></div></div></div></div></div></div></div>"
      ],
      "text/plain": [
       "GridSearchCV(cv=5,\n",
       "             estimator=XGBRegressor(base_score=None, booster=None,\n",
       "                                    callbacks=None, colsample_bylevel=None,\n",
       "                                    colsample_bynode=None,\n",
       "                                    colsample_bytree=None,\n",
       "                                    early_stopping_rounds=None,\n",
       "                                    enable_categorical=False, eval_metric=None,\n",
       "                                    gamma=None, gpu_id=None, grow_policy=None,\n",
       "                                    importance_type=None,\n",
       "                                    interaction_constraints=None,\n",
       "                                    learning_rate=None, max_bin=None,\n",
       "                                    max_cat_to_onehot=None, max_delta_step=None,\n",
       "                                    max_depth=None, max_leaves=None,\n",
       "                                    min_child_weight=None, missing=nan,\n",
       "                                    monotone_constraints=None, n_estimators=100,\n",
       "                                    n_jobs=None, num_parallel_tree=None,\n",
       "                                    predictor=None, random_state=None,\n",
       "                                    reg_alpha=None, reg_lambda=None, ...),\n",
       "             param_grid={'learning_rate': [0.01, 0.02], 'max_depth': [5, 10],\n",
       "                         'n_estimators': [100, 500]})"
      ]
     },
     "execution_count": 41,
     "metadata": {},
     "output_type": "execute_result"
    }
   ],
   "source": [
    "params = { \n",
    "    'max_depth': [5,10], # Maximum tree depth for base learners\n",
    "    'learning_rate': [0.01, 0.02], # Learning rate\n",
    "    'n_estimators': [100, 500] # Number of gradient boosted trees\n",
    "}\n",
    "\n",
    "\n",
    "model = XGBRegressor(seed=42)\n",
    "\n",
    "xgb = GridSearchCV(estimator=model, param_grid=params, cv=5)\n",
    "xgb.fit(x_train,y_train)\n"
   ]
  },
  {
   "cell_type": "code",
   "execution_count": 42,
   "id": "438d50ee-744b-4456-a1a9-ab71dbecc00c",
   "metadata": {},
   "outputs": [
    {
     "data": {
      "text/html": [
       "<style>#sk-container-id-5 {color: black;background-color: white;}#sk-container-id-5 pre{padding: 0;}#sk-container-id-5 div.sk-toggleable {background-color: white;}#sk-container-id-5 label.sk-toggleable__label {cursor: pointer;display: block;width: 100%;margin-bottom: 0;padding: 0.3em;box-sizing: border-box;text-align: center;}#sk-container-id-5 label.sk-toggleable__label-arrow:before {content: \"▸\";float: left;margin-right: 0.25em;color: #696969;}#sk-container-id-5 label.sk-toggleable__label-arrow:hover:before {color: black;}#sk-container-id-5 div.sk-estimator:hover label.sk-toggleable__label-arrow:before {color: black;}#sk-container-id-5 div.sk-toggleable__content {max-height: 0;max-width: 0;overflow: hidden;text-align: left;background-color: #f0f8ff;}#sk-container-id-5 div.sk-toggleable__content pre {margin: 0.2em;color: black;border-radius: 0.25em;background-color: #f0f8ff;}#sk-container-id-5 input.sk-toggleable__control:checked~div.sk-toggleable__content {max-height: 200px;max-width: 100%;overflow: auto;}#sk-container-id-5 input.sk-toggleable__control:checked~label.sk-toggleable__label-arrow:before {content: \"▾\";}#sk-container-id-5 div.sk-estimator input.sk-toggleable__control:checked~label.sk-toggleable__label {background-color: #d4ebff;}#sk-container-id-5 div.sk-label input.sk-toggleable__control:checked~label.sk-toggleable__label {background-color: #d4ebff;}#sk-container-id-5 input.sk-hidden--visually {border: 0;clip: rect(1px 1px 1px 1px);clip: rect(1px, 1px, 1px, 1px);height: 1px;margin: -1px;overflow: hidden;padding: 0;position: absolute;width: 1px;}#sk-container-id-5 div.sk-estimator {font-family: monospace;background-color: #f0f8ff;border: 1px dotted black;border-radius: 0.25em;box-sizing: border-box;margin-bottom: 0.5em;}#sk-container-id-5 div.sk-estimator:hover {background-color: #d4ebff;}#sk-container-id-5 div.sk-parallel-item::after {content: \"\";width: 100%;border-bottom: 1px solid gray;flex-grow: 1;}#sk-container-id-5 div.sk-label:hover label.sk-toggleable__label {background-color: #d4ebff;}#sk-container-id-5 div.sk-serial::before {content: \"\";position: absolute;border-left: 1px solid gray;box-sizing: border-box;top: 0;bottom: 0;left: 50%;z-index: 0;}#sk-container-id-5 div.sk-serial {display: flex;flex-direction: column;align-items: center;background-color: white;padding-right: 0.2em;padding-left: 0.2em;position: relative;}#sk-container-id-5 div.sk-item {position: relative;z-index: 1;}#sk-container-id-5 div.sk-parallel {display: flex;align-items: stretch;justify-content: center;background-color: white;position: relative;}#sk-container-id-5 div.sk-item::before, #sk-container-id-5 div.sk-parallel-item::before {content: \"\";position: absolute;border-left: 1px solid gray;box-sizing: border-box;top: 0;bottom: 0;left: 50%;z-index: -1;}#sk-container-id-5 div.sk-parallel-item {display: flex;flex-direction: column;z-index: 1;position: relative;background-color: white;}#sk-container-id-5 div.sk-parallel-item:first-child::after {align-self: flex-end;width: 50%;}#sk-container-id-5 div.sk-parallel-item:last-child::after {align-self: flex-start;width: 50%;}#sk-container-id-5 div.sk-parallel-item:only-child::after {width: 0;}#sk-container-id-5 div.sk-dashed-wrapped {border: 1px dashed gray;margin: 0 0.4em 0.5em 0.4em;box-sizing: border-box;padding-bottom: 0.4em;background-color: white;}#sk-container-id-5 div.sk-label label {font-family: monospace;font-weight: bold;display: inline-block;line-height: 1.2em;}#sk-container-id-5 div.sk-label-container {text-align: center;}#sk-container-id-5 div.sk-container {/* jupyter's `normalize.less` sets `[hidden] { display: none; }` but bootstrap.min.css set `[hidden] { display: none !important; }` so we also need the `!important` here to be able to override the default hidden behavior on the sphinx rendered scikit-learn.org. See: https://github.com/scikit-learn/scikit-learn/issues/21755 */display: inline-block !important;position: relative;}#sk-container-id-5 div.sk-text-repr-fallback {display: none;}</style><div id=\"sk-container-id-5\" class=\"sk-top-container\"><div class=\"sk-text-repr-fallback\"><pre>XGBRegressor(base_score=0.5, booster=&#x27;gbtree&#x27;, callbacks=None,\n",
       "             colsample_bylevel=1, colsample_bynode=1, colsample_bytree=1,\n",
       "             early_stopping_rounds=None, enable_categorical=False,\n",
       "             eval_metric=None, gamma=0, gpu_id=-1, grow_policy=&#x27;depthwise&#x27;,\n",
       "             importance_type=None, interaction_constraints=&#x27;&#x27;,\n",
       "             learning_rate=0.02, max_bin=256, max_cat_to_onehot=4,\n",
       "             max_delta_step=0, max_depth=5, max_leaves=0, min_child_weight=1,\n",
       "             missing=nan, monotone_constraints=&#x27;()&#x27;, n_estimators=500, n_jobs=0,\n",
       "             num_parallel_tree=1, predictor=&#x27;auto&#x27;, random_state=42,\n",
       "             reg_alpha=0, reg_lambda=1, ...)</pre><b>In a Jupyter environment, please rerun this cell to show the HTML representation or trust the notebook. <br />On GitHub, the HTML representation is unable to render, please try loading this page with nbviewer.org.</b></div><div class=\"sk-container\" hidden><div class=\"sk-item\"><div class=\"sk-estimator sk-toggleable\"><input class=\"sk-toggleable__control sk-hidden--visually\" id=\"sk-estimator-id-9\" type=\"checkbox\" checked><label for=\"sk-estimator-id-9\" class=\"sk-toggleable__label sk-toggleable__label-arrow\">XGBRegressor</label><div class=\"sk-toggleable__content\"><pre>XGBRegressor(base_score=0.5, booster=&#x27;gbtree&#x27;, callbacks=None,\n",
       "             colsample_bylevel=1, colsample_bynode=1, colsample_bytree=1,\n",
       "             early_stopping_rounds=None, enable_categorical=False,\n",
       "             eval_metric=None, gamma=0, gpu_id=-1, grow_policy=&#x27;depthwise&#x27;,\n",
       "             importance_type=None, interaction_constraints=&#x27;&#x27;,\n",
       "             learning_rate=0.02, max_bin=256, max_cat_to_onehot=4,\n",
       "             max_delta_step=0, max_depth=5, max_leaves=0, min_child_weight=1,\n",
       "             missing=nan, monotone_constraints=&#x27;()&#x27;, n_estimators=500, n_jobs=0,\n",
       "             num_parallel_tree=1, predictor=&#x27;auto&#x27;, random_state=42,\n",
       "             reg_alpha=0, reg_lambda=1, ...)</pre></div></div></div></div></div>"
      ],
      "text/plain": [
       "XGBRegressor(base_score=0.5, booster='gbtree', callbacks=None,\n",
       "             colsample_bylevel=1, colsample_bynode=1, colsample_bytree=1,\n",
       "             early_stopping_rounds=None, enable_categorical=False,\n",
       "             eval_metric=None, gamma=0, gpu_id=-1, grow_policy='depthwise',\n",
       "             importance_type=None, interaction_constraints='',\n",
       "             learning_rate=0.02, max_bin=256, max_cat_to_onehot=4,\n",
       "             max_delta_step=0, max_depth=5, max_leaves=0, min_child_weight=1,\n",
       "             missing=nan, monotone_constraints='()', n_estimators=500, n_jobs=0,\n",
       "             num_parallel_tree=1, predictor='auto', random_state=42,\n",
       "             reg_alpha=0, reg_lambda=1, ...)"
      ]
     },
     "execution_count": 42,
     "metadata": {},
     "output_type": "execute_result"
    }
   ],
   "source": [
    "xgb.best_estimator_\n"
   ]
  },
  {
   "cell_type": "code",
   "execution_count": 44,
   "id": "a927b424-d1b0-49b2-9519-252695de0b81",
   "metadata": {},
   "outputs": [
    {
     "name": "stdout",
     "output_type": "stream",
     "text": [
      "Root Mean Square Error 0.203\n",
      "Training score 0.69\n",
      "Test score 0.32\n",
      "r squred score 0.32\n"
     ]
    }
   ],
   "source": [
    "import math\n",
    "y_actual = y_test\n",
    "y_pred = pd.DataFrame(xgb.best_estimator_.predict(x_test),columns = ['Prediction'])\n",
    " \n",
    "MSE = mean_squared_error(y_actual, y_pred)\n",
    "RMSE = math.sqrt(MSE)\n",
    "r2 = r2_score(y_actual, y_pred)\n",
    "print(\"Root Mean Square Error\", round(RMSE,3))\n",
    "print(\"Training score\",round(xgb.best_estimator_.score(x_train,y_train),2))\n",
    "print(\"Test score\",round(xgb.best_estimator_.score(x_test,y_test),2))\n",
    "print(\"r squred score\",round(r2,2))"
   ]
  },
  {
   "cell_type": "markdown",
   "id": "5a474b81-41fd-4521-94fe-21ad35698dd2",
   "metadata": {},
   "source": [
    "we can observe that test score as been increased from 0.27 to 0.32 after tuning the model"
   ]
  },
  {
   "cell_type": "code",
   "execution_count": 45,
   "id": "b25b6b54-36b3-419d-bba4-20787890cf2d",
   "metadata": {},
   "outputs": [],
   "source": [
    "y_test = y_test.reset_index(drop =True)\n",
    "y_pred = y_pred.reset_index(drop =True)\n",
    "predictions = pd.concat([y_test,y_pred],axis = 1)"
   ]
  },
  {
   "cell_type": "code",
   "execution_count": 46,
   "id": "bd692620-8c39-4edc-a687-72204952c180",
   "metadata": {},
   "outputs": [
    {
     "data": {
      "text/html": [
       "<div>\n",
       "<style scoped>\n",
       "    .dataframe tbody tr th:only-of-type {\n",
       "        vertical-align: middle;\n",
       "    }\n",
       "\n",
       "    .dataframe tbody tr th {\n",
       "        vertical-align: top;\n",
       "    }\n",
       "\n",
       "    .dataframe thead th {\n",
       "        text-align: right;\n",
       "    }\n",
       "</style>\n",
       "<table border=\"1\" class=\"dataframe\">\n",
       "  <thead>\n",
       "    <tr style=\"text-align: right;\">\n",
       "      <th></th>\n",
       "      <th>rating</th>\n",
       "      <th>Prediction</th>\n",
       "    </tr>\n",
       "  </thead>\n",
       "  <tbody>\n",
       "    <tr>\n",
       "      <th>0</th>\n",
       "      <td>4.19</td>\n",
       "      <td>4.037724</td>\n",
       "    </tr>\n",
       "    <tr>\n",
       "      <th>1</th>\n",
       "      <td>4.07</td>\n",
       "      <td>3.899351</td>\n",
       "    </tr>\n",
       "    <tr>\n",
       "      <th>2</th>\n",
       "      <td>3.94</td>\n",
       "      <td>4.065886</td>\n",
       "    </tr>\n",
       "    <tr>\n",
       "      <th>3</th>\n",
       "      <td>3.73</td>\n",
       "      <td>3.863857</td>\n",
       "    </tr>\n",
       "    <tr>\n",
       "      <th>4</th>\n",
       "      <td>3.80</td>\n",
       "      <td>3.959116</td>\n",
       "    </tr>\n",
       "    <tr>\n",
       "      <th>...</th>\n",
       "      <td>...</td>\n",
       "      <td>...</td>\n",
       "    </tr>\n",
       "    <tr>\n",
       "      <th>303</th>\n",
       "      <td>3.89</td>\n",
       "      <td>3.907083</td>\n",
       "    </tr>\n",
       "    <tr>\n",
       "      <th>304</th>\n",
       "      <td>4.29</td>\n",
       "      <td>4.332120</td>\n",
       "    </tr>\n",
       "    <tr>\n",
       "      <th>305</th>\n",
       "      <td>3.98</td>\n",
       "      <td>3.925782</td>\n",
       "    </tr>\n",
       "    <tr>\n",
       "      <th>306</th>\n",
       "      <td>4.30</td>\n",
       "      <td>4.189685</td>\n",
       "    </tr>\n",
       "    <tr>\n",
       "      <th>307</th>\n",
       "      <td>4.24</td>\n",
       "      <td>4.152638</td>\n",
       "    </tr>\n",
       "  </tbody>\n",
       "</table>\n",
       "<p>308 rows × 2 columns</p>\n",
       "</div>"
      ],
      "text/plain": [
       "     rating  Prediction\n",
       "0      4.19    4.037724\n",
       "1      4.07    3.899351\n",
       "2      3.94    4.065886\n",
       "3      3.73    3.863857\n",
       "4      3.80    3.959116\n",
       "..      ...         ...\n",
       "303    3.89    3.907083\n",
       "304    4.29    4.332120\n",
       "305    3.98    3.925782\n",
       "306    4.30    4.189685\n",
       "307    4.24    4.152638\n",
       "\n",
       "[308 rows x 2 columns]"
      ]
     },
     "execution_count": 46,
     "metadata": {},
     "output_type": "execute_result"
    }
   ],
   "source": [
    "predictions"
   ]
  },
  {
   "cell_type": "code",
   "execution_count": 47,
   "id": "86a6b198-ba7c-414a-93a6-813e52e371fb",
   "metadata": {},
   "outputs": [
    {
     "data": {
      "text/plain": [
       "Text(0.5, 1.0, 'Prediction vs actual ratings')"
      ]
     },
     "execution_count": 47,
     "metadata": {},
     "output_type": "execute_result"
    },
    {
     "data": {
      "image/png": "[encoded data removed]",
      "text/plain": [
       "<Figure size 1300x700 with 1 Axes>"
      ]
     },
     "metadata": {},
     "output_type": "display_data"
    }
   ],
   "source": [
    "predictions[:25].plot(kind='bar', figsize=(13, 7))\n",
    "plt.title('Prediction vs actual ratings')"
   ]
  },
  {
   "cell_type": "code",
   "execution_count": null,
   "id": "7e3194d4-293e-431f-b0f0-4f1774a641ec",
   "metadata": {},
   "outputs": [],
   "source": []
  }
 ],
 "metadata": {
  "kernelspec": {
   "display_name": "Python 3 (ipykernel)",
   "language": "python",
   "name": "python3"
  },
  "language_info": {
   "codemirror_mode": {
    "name": "ipython",
    "version": 3
   },
   "file_extension": ".py",
   "mimetype": "text/x-python",
   "name": "python",
   "nbconvert_exporter": "python",
   "pygments_lexer": "ipython3",
   "version": "3.9.12"
  }
 },
 "nbformat": 4,
 "nbformat_minor": 5
}
